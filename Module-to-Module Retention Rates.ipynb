{
 "cells": [
  {
   "cell_type": "code",
   "execution_count": 1,
   "id": "401abb1f",
   "metadata": {},
   "outputs": [],
   "source": [
    "import pandas as pd"
   ]
  },
  {
   "cell_type": "code",
   "execution_count": 2,
   "id": "7af839c7",
   "metadata": {},
   "outputs": [],
   "source": [
    "# Load the cleaned data for each module\n",
    "angular_data = pd.read_csv('Data/Angular.csv')\n",
    "java_data = pd.read_csv('Data/Java.csv')\n",
    "python_data = pd.read_csv('Data/Python_Flask.csv')\n",
    "django_data = pd.read_csv('Data/Django.csv')\n",
    "android_data = pd.read_csv('Data/Android.csv')\n",
    "professional_data = pd.read_csv('Data/Professional Development.csv')\n",
    "intro_data = pd.read_csv('Data/Intro_to_Software_Development.csv')"
   ]
  },
  {
   "cell_type": "code",
   "execution_count": 3,
   "id": "bd6ae82a",
   "metadata": {},
   "outputs": [],
   "source": [
    "# Calculate retention rates\n",
    "def calculate_retention_rate(current_module_data, next_module_data):\n",
    "    # Count the number of students who passed the current module\n",
    "    passed_students = current_module_data[current_module_data['mor_Attendance_Score__c'] >= 50]\n",
    "    passed_count = len(passed_students)\n",
    "\n",
    "    # Count the number of students who enrolled in the next module\n",
    "    enrolled_students = next_module_data[next_module_data['Prerequisite_Course_Connection__c'].notnull()]\n",
    "    enrolled_count = len(enrolled_students)\n",
    "\n",
    "    # Calculate the retention rate\n",
    "    retention_rate = (enrolled_count / passed_count) * 100\n",
    "\n",
    "    return retention_rate\n",
    "\n",
    "# Calculate retention rates for each module\n",
    "angular_to_java_retention = calculate_retention_rate(angular_data, java_data)\n",
    "java_to_android_retention = calculate_retention_rate(java_data, android_data)\n",
    "java_to_python_retention = calculate_retention_rate(java_data, python_data)\n",
    "python_to_django_retention = calculate_retention_rate(python_data, django_data)\n",
    "android_django_to_professional_retention = calculate_retention_rate(android_data.append(django_data), professional_data)"
   ]
  },
  {
   "cell_type": "code",
   "execution_count": 4,
   "id": "676afae7",
   "metadata": {},
   "outputs": [
    {
     "name": "stdout",
     "output_type": "stream",
     "text": [
      "Module-to-Module Retention Rates:\n",
      "Intro to Software Development -> Angular: 34.72%\n",
      "Angular -> Java/Python: 73.91%\n",
      "Java -> Android/Django: 247.83%\n",
      "Python -> Django: 91.84%\n",
      "Android/Django -> Professional Development: 0.00%\n"
     ]
    }
   ],
   "source": [
    "# Print the retention rates\n",
    "print(\"Module-to-Module Retention Rates:\")\n",
    "\n",
    "print(\"Intro to Software Development -> Angular: %.2f%%\" % angular_to_java_retention)\n",
    "print(\"Angular -> Java/Python: %.2f%%\" % java_to_android_retention)\n",
    "print(\"Java -> Android/Django: %.2f%%\" % java_to_python_retention)\n",
    "print(\"Python -> Django: %.2f%%\" % python_to_django_retention)\n",
    "print(\"Android/Django -> Professional Development: %.2f%%\" % android_django_to_professional_retention)"
   ]
  }
 ],
 "metadata": {
  "kernelspec": {
   "display_name": "Python 3 (ipykernel)",
   "language": "python",
   "name": "python3"
  },
  "language_info": {
   "codemirror_mode": {
    "name": "ipython",
    "version": 3
   },
   "file_extension": ".py",
   "mimetype": "text/x-python",
   "name": "python",
   "nbconvert_exporter": "python",
   "pygments_lexer": "ipython3",
   "version": "3.9.7"
  }
 },
 "nbformat": 4,
 "nbformat_minor": 5
}
