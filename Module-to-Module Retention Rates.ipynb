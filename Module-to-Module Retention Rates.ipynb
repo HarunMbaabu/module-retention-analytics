{
 "cells": [
  {
   "cell_type": "code",
   "execution_count": 91,
   "id": "7ce08725",
   "metadata": {},
   "outputs": [],
   "source": [
    "import pandas as pd"
   ]
  },
  {
   "cell_type": "code",
   "execution_count": 92,
   "id": "f2248bd4",
   "metadata": {},
   "outputs": [],
   "source": [
    "# Load the cleaned data for each module\n",
    "angular_data = pd.read_csv('Data/clean_data/angular_data_cleaned.csv')\n",
    "java_data = pd.read_csv('Data/clean_data/java_data_cleaned.csv')\n",
    "python_data = pd.read_csv('Data/clean_data/flask_data_cleaned.csv')\n",
    "django_data = pd.read_csv('Data/clean_data/django_data_cleaned.csv')\n",
    "android_data = pd.read_csv('Data/clean_data/android_data_cleaned.csv')\n",
    "professional_data = pd.read_csv('Data/clean_data/prof_dev_data_cleaned.csv')\n",
    "intro_data = pd.read_csv('Data/clean_data/sw_dev_data_cleaned.csv')"
   ]
  },
  {
   "cell_type": "code",
   "execution_count": 93,
   "id": "c8d94e09",
   "metadata": {},
   "outputs": [],
   "source": [
    "# Function to calculate module-to-module retention rate\n",
    "def calculate_retention_rate(enrollment_current, enrollment_next):\n",
    "    retention_rate = (enrollment_next / enrollment_current) * 100\n",
    "    return retention_rate"
   ]
  },
  {
   "cell_type": "code",
   "execution_count": 94,
   "id": "e66744e5",
   "metadata": {},
   "outputs": [],
   "source": [
    "# Calculate the final enrollment numbers for each module\n",
    "intro_enrollment = len(intro_data)\n",
    "angular_enrollment = len(angular_data)\n",
    "java_enrollment = len(java_data)\n",
    "python_enrollment = len(python_data)\n",
    "django_enrollment = len(django_data)\n",
    "android_enrollment = len(android_data)"
   ]
  },
  {
   "cell_type": "code",
   "execution_count": 95,
   "id": "5c8abdf0",
   "metadata": {},
   "outputs": [],
   "source": [
    "# Calculate module-to-module retention rates\n",
    "intro_to_angular_retention = calculate_retention_rate(intro_enrollment, angular_enrollment)\n",
    "angular_to_java_retention = calculate_retention_rate(angular_enrollment, java_enrollment)\n",
    "angular_to_python_retention = calculate_retention_rate(angular_enrollment, python_enrollment)\n",
    "java_to_android_retention = calculate_retention_rate(java_enrollment, android_enrollment)\n",
    "python_to_django_retention = calculate_retention_rate(python_enrollment, django_enrollment)"
   ]
  },
  {
   "cell_type": "code",
   "execution_count": 96,
   "id": "e3548ab4",
   "metadata": {},
   "outputs": [
    {
     "name": "stdout",
     "output_type": "stream",
     "text": [
      "Intro to Software Development -> Angular Retention Rate: 60.68376068376068 %\n",
      "Angular -> Java Retention Rate: 30.985915492957744 %\n",
      "Angular -> Python Retention Rate: 69.01408450704226 %\n",
      "Java -> Android Retention Rate: 68.18181818181817 %\n",
      "Python -> Django Retention Rate: 83.6734693877551 %\n"
     ]
    }
   ],
   "source": [
    "# Print the module-to-module retention rates\n",
    "print(\"Intro to Software Development -> Angular Retention Rate:\", intro_to_angular_retention, \"%\")\n",
    "print(\"Angular -> Java Retention Rate:\", angular_to_java_retention, \"%\")\n",
    "print(\"Angular -> Python Retention Rate:\", angular_to_python_retention, \"%\")\n",
    "print(\"Java -> Android Retention Rate:\", java_to_android_retention, \"%\")\n",
    "print(\"Python -> Django Retention Rate:\", python_to_django_retention, \"%\")"
   ]
  },
  {
   "cell_type": "markdown",
   "id": "eaf7f273",
   "metadata": {},
   "source": [
    "#### **Handling  Android to Professional Development Retention and Django to Professional Development Retention Rate.**\n",
    "\n",
    "- Am getting zero rention rate which is an hypothesis i need to test."
   ]
  },
  {
   "cell_type": "code",
   "execution_count": 97,
   "id": "46c7f3d9",
   "metadata": {},
   "outputs": [],
   "source": [
    "#'mor_Attendance_Score__c' and 'IP_Grade_Average__c'are empty\n",
    "prof_dev_data = pd.read_csv(\"Data/Professional Development.csv\")"
   ]
  },
  {
   "cell_type": "code",
   "execution_count": 98,
   "id": "29116b6b",
   "metadata": {
    "scrolled": true
   },
   "outputs": [
    {
     "data": {
      "text/html": [
       "<div>\n",
       "<style scoped>\n",
       "    .dataframe tbody tr th:only-of-type {\n",
       "        vertical-align: middle;\n",
       "    }\n",
       "\n",
       "    .dataframe tbody tr th {\n",
       "        vertical-align: top;\n",
       "    }\n",
       "\n",
       "    .dataframe thead th {\n",
       "        text-align: right;\n",
       "    }\n",
       "</style>\n",
       "<table border=\"1\" class=\"dataframe\">\n",
       "  <thead>\n",
       "    <tr style=\"text-align: right;\">\n",
       "      <th></th>\n",
       "      <th>hed__Contact__c</th>\n",
       "      <th>mor_Attendance_Score__c</th>\n",
       "      <th>IP_Grade_Average__c</th>\n",
       "      <th>mor_Total_Activity_Time__c</th>\n",
       "      <th>Participations_Level__c</th>\n",
       "      <th>Page_Views_Level__c</th>\n",
       "      <th>hed__Course_Offering__c</th>\n",
       "      <th>Prerequisite_Course_Connection__c</th>\n",
       "    </tr>\n",
       "  </thead>\n",
       "  <tbody>\n",
       "    <tr>\n",
       "      <th>0</th>\n",
       "      <td>0034K00000B8uNfQAJ</td>\n",
       "      <td>NaN</td>\n",
       "      <td>NaN</td>\n",
       "      <td>NaN</td>\n",
       "      <td>NaN</td>\n",
       "      <td>NaN</td>\n",
       "      <td>a0R4K000002ycAwUAI</td>\n",
       "      <td>NaN</td>\n",
       "    </tr>\n",
       "    <tr>\n",
       "      <th>1</th>\n",
       "      <td>0034K00000AApEBQA1</td>\n",
       "      <td>NaN</td>\n",
       "      <td>NaN</td>\n",
       "      <td>21614.0</td>\n",
       "      <td>0.0</td>\n",
       "      <td>2.0</td>\n",
       "      <td>a0R4K000002ycAwUAI</td>\n",
       "      <td>NaN</td>\n",
       "    </tr>\n",
       "    <tr>\n",
       "      <th>2</th>\n",
       "      <td>0034K00000BAy34QAD</td>\n",
       "      <td>NaN</td>\n",
       "      <td>NaN</td>\n",
       "      <td>1230.0</td>\n",
       "      <td>0.0</td>\n",
       "      <td>1.0</td>\n",
       "      <td>a0R4K000002ycAwUAI</td>\n",
       "      <td>NaN</td>\n",
       "    </tr>\n",
       "  </tbody>\n",
       "</table>\n",
       "</div>"
      ],
      "text/plain": [
       "      hed__Contact__c  mor_Attendance_Score__c  IP_Grade_Average__c  \\\n",
       "0  0034K00000B8uNfQAJ                      NaN                  NaN   \n",
       "1  0034K00000AApEBQA1                      NaN                  NaN   \n",
       "2  0034K00000BAy34QAD                      NaN                  NaN   \n",
       "\n",
       "   mor_Total_Activity_Time__c  Participations_Level__c  Page_Views_Level__c  \\\n",
       "0                         NaN                      NaN                  NaN   \n",
       "1                     21614.0                      0.0                  2.0   \n",
       "2                      1230.0                      0.0                  1.0   \n",
       "\n",
       "  hed__Course_Offering__c  Prerequisite_Course_Connection__c  \n",
       "0      a0R4K000002ycAwUAI                                NaN  \n",
       "1      a0R4K000002ycAwUAI                                NaN  \n",
       "2      a0R4K000002ycAwUAI                                NaN  "
      ]
     },
     "execution_count": 98,
     "metadata": {},
     "output_type": "execute_result"
    }
   ],
   "source": [
    "prof_dev_data.head(3)"
   ]
  },
  {
   "cell_type": "code",
   "execution_count": 99,
   "id": "98753d73",
   "metadata": {},
   "outputs": [
    {
     "data": {
      "text/html": [
       "<div>\n",
       "<style scoped>\n",
       "    .dataframe tbody tr th:only-of-type {\n",
       "        vertical-align: middle;\n",
       "    }\n",
       "\n",
       "    .dataframe tbody tr th {\n",
       "        vertical-align: top;\n",
       "    }\n",
       "\n",
       "    .dataframe thead th {\n",
       "        text-align: right;\n",
       "    }\n",
       "</style>\n",
       "<table border=\"1\" class=\"dataframe\">\n",
       "  <thead>\n",
       "    <tr style=\"text-align: right;\">\n",
       "      <th></th>\n",
       "      <th>hed__Contact__c</th>\n",
       "      <th>mor_Total_Activity_Time__c</th>\n",
       "      <th>Participations_Level__c</th>\n",
       "      <th>Page_Views_Level__c</th>\n",
       "      <th>hed__Course_Offering__c</th>\n",
       "    </tr>\n",
       "  </thead>\n",
       "  <tbody>\n",
       "    <tr>\n",
       "      <th>0</th>\n",
       "      <td>0034K00000B8uNfQAJ</td>\n",
       "      <td>NaN</td>\n",
       "      <td>NaN</td>\n",
       "      <td>NaN</td>\n",
       "      <td>a0R4K000002ycAwUAI</td>\n",
       "    </tr>\n",
       "    <tr>\n",
       "      <th>1</th>\n",
       "      <td>0034K00000AApEBQA1</td>\n",
       "      <td>21614.0</td>\n",
       "      <td>0.0</td>\n",
       "      <td>2.0</td>\n",
       "      <td>a0R4K000002ycAwUAI</td>\n",
       "    </tr>\n",
       "    <tr>\n",
       "      <th>2</th>\n",
       "      <td>0034K00000BAy34QAD</td>\n",
       "      <td>1230.0</td>\n",
       "      <td>0.0</td>\n",
       "      <td>1.0</td>\n",
       "      <td>a0R4K000002ycAwUAI</td>\n",
       "    </tr>\n",
       "    <tr>\n",
       "      <th>3</th>\n",
       "      <td>0034K000009yjMmQAI</td>\n",
       "      <td>19221.0</td>\n",
       "      <td>0.0</td>\n",
       "      <td>3.0</td>\n",
       "      <td>a0R4K000002ycAwUAI</td>\n",
       "    </tr>\n",
       "    <tr>\n",
       "      <th>4</th>\n",
       "      <td>0034K00000AApaZQAT</td>\n",
       "      <td>109088.0</td>\n",
       "      <td>0.0</td>\n",
       "      <td>3.0</td>\n",
       "      <td>a0R4K000002ycAwUAI</td>\n",
       "    </tr>\n",
       "    <tr>\n",
       "      <th>...</th>\n",
       "      <td>...</td>\n",
       "      <td>...</td>\n",
       "      <td>...</td>\n",
       "      <td>...</td>\n",
       "      <td>...</td>\n",
       "    </tr>\n",
       "    <tr>\n",
       "      <th>72</th>\n",
       "      <td>0034K00000B8uNUQAZ</td>\n",
       "      <td>0.0</td>\n",
       "      <td>NaN</td>\n",
       "      <td>NaN</td>\n",
       "      <td>a0R4K000002ycAwUAI</td>\n",
       "    </tr>\n",
       "    <tr>\n",
       "      <th>73</th>\n",
       "      <td>0034K00000B8uMTQAZ</td>\n",
       "      <td>0.0</td>\n",
       "      <td>NaN</td>\n",
       "      <td>NaN</td>\n",
       "      <td>a0R4K000002ycAwUAI</td>\n",
       "    </tr>\n",
       "    <tr>\n",
       "      <th>74</th>\n",
       "      <td>0034K0000081hl8QAA</td>\n",
       "      <td>15477.0</td>\n",
       "      <td>NaN</td>\n",
       "      <td>NaN</td>\n",
       "      <td>a0R4K000002ycAwUAI</td>\n",
       "    </tr>\n",
       "    <tr>\n",
       "      <th>75</th>\n",
       "      <td>0034K0000081eLyQAI</td>\n",
       "      <td>2197.0</td>\n",
       "      <td>NaN</td>\n",
       "      <td>NaN</td>\n",
       "      <td>a0R4K000002ycAwUAI</td>\n",
       "    </tr>\n",
       "    <tr>\n",
       "      <th>76</th>\n",
       "      <td>0034K00000B8uMvQAJ</td>\n",
       "      <td>56761.0</td>\n",
       "      <td>NaN</td>\n",
       "      <td>NaN</td>\n",
       "      <td>a0R4K000002ycAwUAI</td>\n",
       "    </tr>\n",
       "  </tbody>\n",
       "</table>\n",
       "<p>77 rows × 5 columns</p>\n",
       "</div>"
      ],
      "text/plain": [
       "       hed__Contact__c  mor_Total_Activity_Time__c  Participations_Level__c  \\\n",
       "0   0034K00000B8uNfQAJ                         NaN                      NaN   \n",
       "1   0034K00000AApEBQA1                     21614.0                      0.0   \n",
       "2   0034K00000BAy34QAD                      1230.0                      0.0   \n",
       "3   0034K000009yjMmQAI                     19221.0                      0.0   \n",
       "4   0034K00000AApaZQAT                    109088.0                      0.0   \n",
       "..                 ...                         ...                      ...   \n",
       "72  0034K00000B8uNUQAZ                         0.0                      NaN   \n",
       "73  0034K00000B8uMTQAZ                         0.0                      NaN   \n",
       "74  0034K0000081hl8QAA                     15477.0                      NaN   \n",
       "75  0034K0000081eLyQAI                      2197.0                      NaN   \n",
       "76  0034K00000B8uMvQAJ                     56761.0                      NaN   \n",
       "\n",
       "    Page_Views_Level__c hed__Course_Offering__c  \n",
       "0                   NaN      a0R4K000002ycAwUAI  \n",
       "1                   2.0      a0R4K000002ycAwUAI  \n",
       "2                   1.0      a0R4K000002ycAwUAI  \n",
       "3                   3.0      a0R4K000002ycAwUAI  \n",
       "4                   3.0      a0R4K000002ycAwUAI  \n",
       "..                  ...                     ...  \n",
       "72                  NaN      a0R4K000002ycAwUAI  \n",
       "73                  NaN      a0R4K000002ycAwUAI  \n",
       "74                  NaN      a0R4K000002ycAwUAI  \n",
       "75                  NaN      a0R4K000002ycAwUAI  \n",
       "76                  NaN      a0R4K000002ycAwUAI  \n",
       "\n",
       "[77 rows x 5 columns]"
      ]
     },
     "execution_count": 99,
     "metadata": {},
     "output_type": "execute_result"
    }
   ],
   "source": [
    "#Drop, mor_Attendance_Score__c, IP_Grade_Average__c , Prerequisite_Course_Connection__c column since they are empyt\n",
    "new_prof_dev_data = prof_dev_data.drop(['mor_Attendance_Score__c', 'IP_Grade_Average__c', 'Prerequisite_Course_Connection__c'], axis=1)\n",
    "new_prof_dev_data"
   ]
  },
  {
   "cell_type": "code",
   "execution_count": 100,
   "id": "1409e76e",
   "metadata": {},
   "outputs": [],
   "source": [
    "new_prof_dev_data.dropna(inplace=True)"
   ]
  },
  {
   "cell_type": "code",
   "execution_count": 101,
   "id": "a22d3462",
   "metadata": {},
   "outputs": [
    {
     "data": {
      "text/plain": [
       "(68, 5)"
      ]
     },
     "execution_count": 101,
     "metadata": {},
     "output_type": "execute_result"
    }
   ],
   "source": [
    "new_prof_dev_data.shape"
   ]
  },
  {
   "cell_type": "code",
   "execution_count": 105,
   "id": "40c92c73",
   "metadata": {},
   "outputs": [],
   "source": [
    "android_data_unique = android_data.drop_duplicates(subset='hed__Contact__c')\n",
    "django_data_unique = django_data.drop_duplicates(subset='hed__Contact__c')\n",
    "\n",
    "android_passed_count = len(android_data_unique)\n",
    "django_passed_count = len(django_data_unique)\n",
    "\n",
    "\n",
    "android_to_prof_dev = android_data_unique[android_data_unique['hed__Course_Offering__c'] == 'Professional Development']\n",
    "android_to_prof_dev_count = len(android_to_prof_dev)\n",
    "android_to_prof_dev_retention_rate = (android_to_prof_dev_count / android_passed_count) * 100\n",
    "\n",
    "django_to_prof_dev = django_data_unique[django_data_unique['hed__Course_Offering__c'] == 'Professional Development']\n",
    "django_to_prof_dev_count = len(django_to_prof_dev)\n",
    "django_to_prof_dev_retention_rate = (django_to_prof_dev_count / django_passed_count) * 100"
   ]
  },
  {
   "cell_type": "code",
   "execution_count": 106,
   "id": "2579153f",
   "metadata": {},
   "outputs": [
    {
     "name": "stdout",
     "output_type": "stream",
     "text": [
      "0.0 0.0\n"
     ]
    }
   ],
   "source": [
    "print(android_to_prof_dev_retention_rate, django_to_prof_dev_retention_rate)\n"
   ]
  }
 ],
 "metadata": {
  "kernelspec": {
   "display_name": "Python 3 (ipykernel)",
   "language": "python",
   "name": "python3"
  },
  "language_info": {
   "codemirror_mode": {
    "name": "ipython",
    "version": 3
   },
   "file_extension": ".py",
   "mimetype": "text/x-python",
   "name": "python",
   "nbconvert_exporter": "python",
   "pygments_lexer": "ipython3",
   "version": "3.9.7"
  }
 },
 "nbformat": 4,
 "nbformat_minor": 5
}
