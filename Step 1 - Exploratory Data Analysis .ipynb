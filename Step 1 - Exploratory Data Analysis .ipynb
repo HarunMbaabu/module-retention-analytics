{
 "cells": [
  {
   "cell_type": "code",
   "execution_count": 49,
   "id": "d668d30b",
   "metadata": {},
   "outputs": [],
   "source": [
    "#Import the Neccessary Packages\n",
    "import pandas as pd"
   ]
  },
  {
   "cell_type": "code",
   "execution_count": 50,
   "id": "47ad037e",
   "metadata": {},
   "outputs": [],
   "source": [
    "#Read Data \n",
    "java_data =  pd.read_csv(\"Data/Java.csv\") \n",
    "# java_data.columns"
   ]
  },
  {
   "cell_type": "code",
   "execution_count": 51,
   "id": "cd23e955",
   "metadata": {},
   "outputs": [],
   "source": [
    "django_data = pd.read_csv(\"Data/Django.csv\")\n",
    "# django_data.columns"
   ]
  },
  {
   "cell_type": "code",
   "execution_count": 52,
   "id": "d9876a10",
   "metadata": {},
   "outputs": [],
   "source": [
    "angular_data = pd.read_csv(\"Data/Angular.csv\")\n",
    "# angular_data.columns"
   ]
  },
  {
   "cell_type": "code",
   "execution_count": 53,
   "id": "0a282612",
   "metadata": {},
   "outputs": [],
   "source": [
    "android_data = pd.read_csv(\"Data/Android.csv\")\n",
    "# android_data.columns"
   ]
  },
  {
   "cell_type": "code",
   "execution_count": 54,
   "id": "f777e245",
   "metadata": {},
   "outputs": [],
   "source": [
    "flask_data = pd.read_csv(\"Data/Python_Flask.csv\")\n",
    "# flask_data.columns"
   ]
  },
  {
   "cell_type": "code",
   "execution_count": 55,
   "id": "906563ab",
   "metadata": {},
   "outputs": [],
   "source": [
    "prof_dev_data = pd.read_csv(\"Data/Professional Development.csv\")\n",
    "# prof_dev_data.columns"
   ]
  },
  {
   "cell_type": "code",
   "execution_count": 56,
   "id": "1261e482",
   "metadata": {},
   "outputs": [],
   "source": [
    "sw_dev_data  = pd.read_csv(\"Data/Intro_to_Software_Development.csv\")\n",
    "# sw_dev_data.columns"
   ]
  },
  {
   "cell_type": "code",
   "execution_count": 57,
   "id": "df5c7be9",
   "metadata": {},
   "outputs": [
    {
     "data": {
      "text/html": [
       "<div>\n",
       "<style scoped>\n",
       "    .dataframe tbody tr th:only-of-type {\n",
       "        vertical-align: middle;\n",
       "    }\n",
       "\n",
       "    .dataframe tbody tr th {\n",
       "        vertical-align: top;\n",
       "    }\n",
       "\n",
       "    .dataframe thead th {\n",
       "        text-align: right;\n",
       "    }\n",
       "</style>\n",
       "<table border=\"1\" class=\"dataframe\">\n",
       "  <thead>\n",
       "    <tr style=\"text-align: right;\">\n",
       "      <th></th>\n",
       "      <th>hed__Contact__c</th>\n",
       "      <th>mor_Attendance_Score__c</th>\n",
       "      <th>IP_Grade_Average__c</th>\n",
       "      <th>mor_Total_Activity_Time__c</th>\n",
       "      <th>Participations_Level__c</th>\n",
       "      <th>Page_Views_Level__c</th>\n",
       "      <th>hed__Course_Offering__c</th>\n",
       "      <th>Prerequisite_Course_Connection__c</th>\n",
       "    </tr>\n",
       "  </thead>\n",
       "  <tbody>\n",
       "    <tr>\n",
       "      <th>0</th>\n",
       "      <td>0034K00000B8uNfQAJ</td>\n",
       "      <td>NaN</td>\n",
       "      <td>0.0</td>\n",
       "      <td>NaN</td>\n",
       "      <td>NaN</td>\n",
       "      <td>NaN</td>\n",
       "      <td>a0R4K000001z5CJUAY</td>\n",
       "      <td>NaN</td>\n",
       "    </tr>\n",
       "    <tr>\n",
       "      <th>1</th>\n",
       "      <td>0034K00000B8uMEQAZ</td>\n",
       "      <td>NaN</td>\n",
       "      <td>0.0</td>\n",
       "      <td>328.0</td>\n",
       "      <td>NaN</td>\n",
       "      <td>NaN</td>\n",
       "      <td>a0R4K000001z5CJUAY</td>\n",
       "      <td>NaN</td>\n",
       "    </tr>\n",
       "  </tbody>\n",
       "</table>\n",
       "</div>"
      ],
      "text/plain": [
       "      hed__Contact__c  mor_Attendance_Score__c  IP_Grade_Average__c  \\\n",
       "0  0034K00000B8uNfQAJ                      NaN                  0.0   \n",
       "1  0034K00000B8uMEQAZ                      NaN                  0.0   \n",
       "\n",
       "   mor_Total_Activity_Time__c  Participations_Level__c  Page_Views_Level__c  \\\n",
       "0                         NaN                      NaN                  NaN   \n",
       "1                       328.0                      NaN                  NaN   \n",
       "\n",
       "  hed__Course_Offering__c Prerequisite_Course_Connection__c  \n",
       "0      a0R4K000001z5CJUAY                               NaN  \n",
       "1      a0R4K000001z5CJUAY                               NaN  "
      ]
     },
     "execution_count": 57,
     "metadata": {},
     "output_type": "execute_result"
    }
   ],
   "source": [
    "java_data.head(2)"
   ]
  },
  {
   "cell_type": "code",
   "execution_count": 58,
   "id": "65d9bab8",
   "metadata": {},
   "outputs": [
    {
     "data": {
      "text/html": [
       "<div>\n",
       "<style scoped>\n",
       "    .dataframe tbody tr th:only-of-type {\n",
       "        vertical-align: middle;\n",
       "    }\n",
       "\n",
       "    .dataframe tbody tr th {\n",
       "        vertical-align: top;\n",
       "    }\n",
       "\n",
       "    .dataframe thead th {\n",
       "        text-align: right;\n",
       "    }\n",
       "</style>\n",
       "<table border=\"1\" class=\"dataframe\">\n",
       "  <thead>\n",
       "    <tr style=\"text-align: right;\">\n",
       "      <th></th>\n",
       "      <th>hed__Contact__c</th>\n",
       "      <th>mor_Attendance_Score__c</th>\n",
       "      <th>IP_Grade_Average__c</th>\n",
       "      <th>mor_Total_Activity_Time__c</th>\n",
       "      <th>Participations_Level__c</th>\n",
       "      <th>Page_Views_Level__c</th>\n",
       "      <th>hed__Course_Offering__c</th>\n",
       "      <th>Prerequisite_Course_Connection__c</th>\n",
       "    </tr>\n",
       "  </thead>\n",
       "  <tbody>\n",
       "    <tr>\n",
       "      <th>0</th>\n",
       "      <td>0034K00000BAy36QAD</td>\n",
       "      <td>63.0</td>\n",
       "      <td>82.7325</td>\n",
       "      <td>303945.0</td>\n",
       "      <td>2.0</td>\n",
       "      <td>2.0</td>\n",
       "      <td>a0R4K0000020w1ZUAQ</td>\n",
       "      <td>NaN</td>\n",
       "    </tr>\n",
       "    <tr>\n",
       "      <th>1</th>\n",
       "      <td>0034K00000B8uNmQAJ</td>\n",
       "      <td>NaN</td>\n",
       "      <td>NaN</td>\n",
       "      <td>16175.0</td>\n",
       "      <td>NaN</td>\n",
       "      <td>NaN</td>\n",
       "      <td>a0R4K0000020w1ZUAQ</td>\n",
       "      <td>a0P4K0000012PqUUAU</td>\n",
       "    </tr>\n",
       "  </tbody>\n",
       "</table>\n",
       "</div>"
      ],
      "text/plain": [
       "      hed__Contact__c  mor_Attendance_Score__c  IP_Grade_Average__c  \\\n",
       "0  0034K00000BAy36QAD                     63.0              82.7325   \n",
       "1  0034K00000B8uNmQAJ                      NaN                  NaN   \n",
       "\n",
       "   mor_Total_Activity_Time__c  Participations_Level__c  Page_Views_Level__c  \\\n",
       "0                    303945.0                      2.0                  2.0   \n",
       "1                     16175.0                      NaN                  NaN   \n",
       "\n",
       "  hed__Course_Offering__c Prerequisite_Course_Connection__c  \n",
       "0      a0R4K0000020w1ZUAQ                               NaN  \n",
       "1      a0R4K0000020w1ZUAQ                a0P4K0000012PqUUAU  "
      ]
     },
     "execution_count": 58,
     "metadata": {},
     "output_type": "execute_result"
    }
   ],
   "source": [
    "django_data.head(2)"
   ]
  },
  {
   "cell_type": "code",
   "execution_count": 59,
   "id": "b5152772",
   "metadata": {},
   "outputs": [
    {
     "data": {
      "text/html": [
       "<div>\n",
       "<style scoped>\n",
       "    .dataframe tbody tr th:only-of-type {\n",
       "        vertical-align: middle;\n",
       "    }\n",
       "\n",
       "    .dataframe tbody tr th {\n",
       "        vertical-align: top;\n",
       "    }\n",
       "\n",
       "    .dataframe thead th {\n",
       "        text-align: right;\n",
       "    }\n",
       "</style>\n",
       "<table border=\"1\" class=\"dataframe\">\n",
       "  <thead>\n",
       "    <tr style=\"text-align: right;\">\n",
       "      <th></th>\n",
       "      <th>hed__Contact__c</th>\n",
       "      <th>mor_Attendance_Score__c</th>\n",
       "      <th>IP_Grade_Average__c</th>\n",
       "      <th>mor_Total_Activity_Time__c</th>\n",
       "      <th>Participations_Level__c</th>\n",
       "      <th>Page_Views_Level__c</th>\n",
       "      <th>hed__Course_Offering__c</th>\n",
       "      <th>Prerequisite_Course_Connection__c</th>\n",
       "    </tr>\n",
       "  </thead>\n",
       "  <tbody>\n",
       "    <tr>\n",
       "      <th>0</th>\n",
       "      <td>0034K00000AAqD5QAL</td>\n",
       "      <td>NaN</td>\n",
       "      <td>NaN</td>\n",
       "      <td>32980.0</td>\n",
       "      <td>NaN</td>\n",
       "      <td>NaN</td>\n",
       "      <td>a0R4K000001z16cUAA</td>\n",
       "      <td>a0P4K000001LuzQUAS</td>\n",
       "    </tr>\n",
       "    <tr>\n",
       "      <th>1</th>\n",
       "      <td>0034K00000BAy34QAD</td>\n",
       "      <td>100.0</td>\n",
       "      <td>88.635</td>\n",
       "      <td>518086.0</td>\n",
       "      <td>1.0</td>\n",
       "      <td>3.0</td>\n",
       "      <td>a0R4K000001z16cUAA</td>\n",
       "      <td>a0P4K000001LuzRUAS</td>\n",
       "    </tr>\n",
       "  </tbody>\n",
       "</table>\n",
       "</div>"
      ],
      "text/plain": [
       "      hed__Contact__c  mor_Attendance_Score__c  IP_Grade_Average__c  \\\n",
       "0  0034K00000AAqD5QAL                      NaN                  NaN   \n",
       "1  0034K00000BAy34QAD                    100.0               88.635   \n",
       "\n",
       "   mor_Total_Activity_Time__c  Participations_Level__c  Page_Views_Level__c  \\\n",
       "0                     32980.0                      NaN                  NaN   \n",
       "1                    518086.0                      1.0                  3.0   \n",
       "\n",
       "  hed__Course_Offering__c Prerequisite_Course_Connection__c  \n",
       "0      a0R4K000001z16cUAA                a0P4K000001LuzQUAS  \n",
       "1      a0R4K000001z16cUAA                a0P4K000001LuzRUAS  "
      ]
     },
     "execution_count": 59,
     "metadata": {},
     "output_type": "execute_result"
    }
   ],
   "source": [
    "angular_data.head(2)"
   ]
  },
  {
   "cell_type": "code",
   "execution_count": 60,
   "id": "9f7f86bf",
   "metadata": {},
   "outputs": [
    {
     "data": {
      "text/html": [
       "<div>\n",
       "<style scoped>\n",
       "    .dataframe tbody tr th:only-of-type {\n",
       "        vertical-align: middle;\n",
       "    }\n",
       "\n",
       "    .dataframe tbody tr th {\n",
       "        vertical-align: top;\n",
       "    }\n",
       "\n",
       "    .dataframe thead th {\n",
       "        text-align: right;\n",
       "    }\n",
       "</style>\n",
       "<table border=\"1\" class=\"dataframe\">\n",
       "  <thead>\n",
       "    <tr style=\"text-align: right;\">\n",
       "      <th></th>\n",
       "      <th>hed__Contact__c</th>\n",
       "      <th>mor_Attendance_Score__c</th>\n",
       "      <th>IP_Grade_Average__c</th>\n",
       "      <th>mor_Total_Activity_Time__c</th>\n",
       "      <th>Participations_Level__c</th>\n",
       "      <th>Page_Views_Level__c</th>\n",
       "      <th>hed__Course_Offering__c</th>\n",
       "      <th>Prerequisite_Course_Connection__c</th>\n",
       "    </tr>\n",
       "  </thead>\n",
       "  <tbody>\n",
       "    <tr>\n",
       "      <th>0</th>\n",
       "      <td>0034K00000I7xWaQAJ</td>\n",
       "      <td>NaN</td>\n",
       "      <td>NaN</td>\n",
       "      <td>32237.0</td>\n",
       "      <td>NaN</td>\n",
       "      <td>NaN</td>\n",
       "      <td>a0R4K0000020w2DUAQ</td>\n",
       "      <td>NaN</td>\n",
       "    </tr>\n",
       "    <tr>\n",
       "      <th>1</th>\n",
       "      <td>0034K00000B8uNfQAJ</td>\n",
       "      <td>NaN</td>\n",
       "      <td>NaN</td>\n",
       "      <td>NaN</td>\n",
       "      <td>NaN</td>\n",
       "      <td>NaN</td>\n",
       "      <td>a0R4K0000020w2DUAQ</td>\n",
       "      <td>NaN</td>\n",
       "    </tr>\n",
       "  </tbody>\n",
       "</table>\n",
       "</div>"
      ],
      "text/plain": [
       "      hed__Contact__c  mor_Attendance_Score__c  IP_Grade_Average__c  \\\n",
       "0  0034K00000I7xWaQAJ                      NaN                  NaN   \n",
       "1  0034K00000B8uNfQAJ                      NaN                  NaN   \n",
       "\n",
       "   mor_Total_Activity_Time__c  Participations_Level__c  Page_Views_Level__c  \\\n",
       "0                     32237.0                      NaN                  NaN   \n",
       "1                         NaN                      NaN                  NaN   \n",
       "\n",
       "  hed__Course_Offering__c Prerequisite_Course_Connection__c  \n",
       "0      a0R4K0000020w2DUAQ                               NaN  \n",
       "1      a0R4K0000020w2DUAQ                               NaN  "
      ]
     },
     "execution_count": 60,
     "metadata": {},
     "output_type": "execute_result"
    }
   ],
   "source": [
    "android_data.head(2)"
   ]
  },
  {
   "cell_type": "code",
   "execution_count": 61,
   "id": "7ba34ca2",
   "metadata": {},
   "outputs": [
    {
     "data": {
      "text/html": [
       "<div>\n",
       "<style scoped>\n",
       "    .dataframe tbody tr th:only-of-type {\n",
       "        vertical-align: middle;\n",
       "    }\n",
       "\n",
       "    .dataframe tbody tr th {\n",
       "        vertical-align: top;\n",
       "    }\n",
       "\n",
       "    .dataframe thead th {\n",
       "        text-align: right;\n",
       "    }\n",
       "</style>\n",
       "<table border=\"1\" class=\"dataframe\">\n",
       "  <thead>\n",
       "    <tr style=\"text-align: right;\">\n",
       "      <th></th>\n",
       "      <th>hed__Contact__c</th>\n",
       "      <th>mor_Attendance_Score__c</th>\n",
       "      <th>IP_Grade_Average__c</th>\n",
       "      <th>mor_Total_Activity_Time__c</th>\n",
       "      <th>Participations_Level__c</th>\n",
       "      <th>Page_Views_Level__c</th>\n",
       "      <th>hed__Course_Offering__c</th>\n",
       "      <th>Prerequisite_Course_Connection__c</th>\n",
       "    </tr>\n",
       "  </thead>\n",
       "  <tbody>\n",
       "    <tr>\n",
       "      <th>0</th>\n",
       "      <td>0034K00000AAqD5QAL</td>\n",
       "      <td>NaN</td>\n",
       "      <td>NaN</td>\n",
       "      <td>0.0</td>\n",
       "      <td>NaN</td>\n",
       "      <td>NaN</td>\n",
       "      <td>a0R4K000001z5C4UAI</td>\n",
       "      <td>a0P4K000000fx1eUAA</td>\n",
       "    </tr>\n",
       "    <tr>\n",
       "      <th>1</th>\n",
       "      <td>0034K00000BAy34QAD</td>\n",
       "      <td>100.0</td>\n",
       "      <td>93.18</td>\n",
       "      <td>887219.0</td>\n",
       "      <td>2.0</td>\n",
       "      <td>3.0</td>\n",
       "      <td>a0R4K000001z5C4UAI</td>\n",
       "      <td>a0P4K000000fx1fUAA</td>\n",
       "    </tr>\n",
       "  </tbody>\n",
       "</table>\n",
       "</div>"
      ],
      "text/plain": [
       "      hed__Contact__c  mor_Attendance_Score__c  IP_Grade_Average__c  \\\n",
       "0  0034K00000AAqD5QAL                      NaN                  NaN   \n",
       "1  0034K00000BAy34QAD                    100.0                93.18   \n",
       "\n",
       "   mor_Total_Activity_Time__c  Participations_Level__c  Page_Views_Level__c  \\\n",
       "0                         0.0                      NaN                  NaN   \n",
       "1                    887219.0                      2.0                  3.0   \n",
       "\n",
       "  hed__Course_Offering__c Prerequisite_Course_Connection__c  \n",
       "0      a0R4K000001z5C4UAI                a0P4K000000fx1eUAA  \n",
       "1      a0R4K000001z5C4UAI                a0P4K000000fx1fUAA  "
      ]
     },
     "execution_count": 61,
     "metadata": {},
     "output_type": "execute_result"
    }
   ],
   "source": [
    "flask_data.head(2)"
   ]
  },
  {
   "cell_type": "code",
   "execution_count": 62,
   "id": "63861cd8",
   "metadata": {},
   "outputs": [
    {
     "data": {
      "text/html": [
       "<div>\n",
       "<style scoped>\n",
       "    .dataframe tbody tr th:only-of-type {\n",
       "        vertical-align: middle;\n",
       "    }\n",
       "\n",
       "    .dataframe tbody tr th {\n",
       "        vertical-align: top;\n",
       "    }\n",
       "\n",
       "    .dataframe thead th {\n",
       "        text-align: right;\n",
       "    }\n",
       "</style>\n",
       "<table border=\"1\" class=\"dataframe\">\n",
       "  <thead>\n",
       "    <tr style=\"text-align: right;\">\n",
       "      <th></th>\n",
       "      <th>hed__Contact__c</th>\n",
       "      <th>mor_Attendance_Score__c</th>\n",
       "      <th>IP_Grade_Average__c</th>\n",
       "      <th>mor_Total_Activity_Time__c</th>\n",
       "      <th>Participations_Level__c</th>\n",
       "      <th>Page_Views_Level__c</th>\n",
       "      <th>hed__Course_Offering__c</th>\n",
       "      <th>Prerequisite_Course_Connection__c</th>\n",
       "    </tr>\n",
       "  </thead>\n",
       "  <tbody>\n",
       "    <tr>\n",
       "      <th>0</th>\n",
       "      <td>0034K00000B8uNfQAJ</td>\n",
       "      <td>NaN</td>\n",
       "      <td>NaN</td>\n",
       "      <td>NaN</td>\n",
       "      <td>NaN</td>\n",
       "      <td>NaN</td>\n",
       "      <td>a0R4K000002ycAwUAI</td>\n",
       "      <td>NaN</td>\n",
       "    </tr>\n",
       "    <tr>\n",
       "      <th>1</th>\n",
       "      <td>0034K00000AApEBQA1</td>\n",
       "      <td>NaN</td>\n",
       "      <td>NaN</td>\n",
       "      <td>21614.0</td>\n",
       "      <td>0.0</td>\n",
       "      <td>2.0</td>\n",
       "      <td>a0R4K000002ycAwUAI</td>\n",
       "      <td>NaN</td>\n",
       "    </tr>\n",
       "  </tbody>\n",
       "</table>\n",
       "</div>"
      ],
      "text/plain": [
       "      hed__Contact__c  mor_Attendance_Score__c  IP_Grade_Average__c  \\\n",
       "0  0034K00000B8uNfQAJ                      NaN                  NaN   \n",
       "1  0034K00000AApEBQA1                      NaN                  NaN   \n",
       "\n",
       "   mor_Total_Activity_Time__c  Participations_Level__c  Page_Views_Level__c  \\\n",
       "0                         NaN                      NaN                  NaN   \n",
       "1                     21614.0                      0.0                  2.0   \n",
       "\n",
       "  hed__Course_Offering__c  Prerequisite_Course_Connection__c  \n",
       "0      a0R4K000002ycAwUAI                                NaN  \n",
       "1      a0R4K000002ycAwUAI                                NaN  "
      ]
     },
     "execution_count": 62,
     "metadata": {},
     "output_type": "execute_result"
    }
   ],
   "source": [
    "prof_dev_data.head(2)"
   ]
  },
  {
   "cell_type": "code",
   "execution_count": 63,
   "id": "c69effa7",
   "metadata": {},
   "outputs": [
    {
     "data": {
      "text/html": [
       "<div>\n",
       "<style scoped>\n",
       "    .dataframe tbody tr th:only-of-type {\n",
       "        vertical-align: middle;\n",
       "    }\n",
       "\n",
       "    .dataframe tbody tr th {\n",
       "        vertical-align: top;\n",
       "    }\n",
       "\n",
       "    .dataframe thead th {\n",
       "        text-align: right;\n",
       "    }\n",
       "</style>\n",
       "<table border=\"1\" class=\"dataframe\">\n",
       "  <thead>\n",
       "    <tr style=\"text-align: right;\">\n",
       "      <th></th>\n",
       "      <th>hed__Contact__c</th>\n",
       "      <th>mor_Attendance_Score__c</th>\n",
       "      <th>IP_Grade_Average__c</th>\n",
       "      <th>mor_Total_Activity_Time__c</th>\n",
       "      <th>Participations_Level__c</th>\n",
       "      <th>Page_Views_Level__c</th>\n",
       "      <th>hed__Course_Offering__c</th>\n",
       "      <th>Prerequisite_Course_Connection__c</th>\n",
       "    </tr>\n",
       "  </thead>\n",
       "  <tbody>\n",
       "    <tr>\n",
       "      <th>0</th>\n",
       "      <td>0034K00000B8uNfQAJ</td>\n",
       "      <td>NaN</td>\n",
       "      <td>0.0</td>\n",
       "      <td>NaN</td>\n",
       "      <td>NaN</td>\n",
       "      <td>NaN</td>\n",
       "      <td>a0R4K000001ynYnUAI</td>\n",
       "      <td>NaN</td>\n",
       "    </tr>\n",
       "    <tr>\n",
       "      <th>1</th>\n",
       "      <td>0034K000009yICAQA2</td>\n",
       "      <td>NaN</td>\n",
       "      <td>0.0</td>\n",
       "      <td>0.0</td>\n",
       "      <td>NaN</td>\n",
       "      <td>NaN</td>\n",
       "      <td>a0R4K000001ynYnUAI</td>\n",
       "      <td>NaN</td>\n",
       "    </tr>\n",
       "  </tbody>\n",
       "</table>\n",
       "</div>"
      ],
      "text/plain": [
       "      hed__Contact__c  mor_Attendance_Score__c  IP_Grade_Average__c  \\\n",
       "0  0034K00000B8uNfQAJ                      NaN                  0.0   \n",
       "1  0034K000009yICAQA2                      NaN                  0.0   \n",
       "\n",
       "   mor_Total_Activity_Time__c  Participations_Level__c  Page_Views_Level__c  \\\n",
       "0                         NaN                      NaN                  NaN   \n",
       "1                         0.0                      NaN                  NaN   \n",
       "\n",
       "  hed__Course_Offering__c  Prerequisite_Course_Connection__c  \n",
       "0      a0R4K000001ynYnUAI                                NaN  \n",
       "1      a0R4K000001ynYnUAI                                NaN  "
      ]
     },
     "execution_count": 63,
     "metadata": {},
     "output_type": "execute_result"
    }
   ],
   "source": [
    "sw_dev_data.head(2)"
   ]
  },
  {
   "cell_type": "code",
   "execution_count": 64,
   "id": "71c7dd81",
   "metadata": {},
   "outputs": [],
   "source": [
    "# Define a function to clean the data for each module\n",
    "def clean_data(df, next_module_df, prerequisite_col):\n",
    "    # Drop records with missing metrics\n",
    "    df.dropna(subset=['mor_Attendance_Score__c', 'IP_Grade_Average__c', 'mor_Total_Activity_Time__c'], inplace=True)\n",
    "    \n",
    "    # Exclude students who scored below 50% and not enrolled in the next module\n",
    "    next_module_ids = set(next_module_df['hed__Contact__c'])\n",
    "    df = df[(df['IP_Grade_Average__c'] >= 50) & (df['hed__Contact__c'].isin(next_module_ids))]\n",
    "    \n",
    "    # Exclude students who enrolled in multiple modules\n",
    "    df.drop_duplicates(subset=['hed__Contact__c'], keep='first', inplace=True)\n",
    "    \n",
    "    return df"
   ]
  },
  {
   "cell_type": "code",
   "execution_count": 66,
   "id": "9005deb8",
   "metadata": {},
   "outputs": [
    {
     "ename": "TypeError",
     "evalue": "list indices must be integers or slices, not str",
     "output_type": "error",
     "traceback": [
      "\u001b[0;31m---------------------------------------------------------------------------\u001b[0m",
      "\u001b[0;31mTypeError\u001b[0m                                 Traceback (most recent call last)",
      "\u001b[0;32m/tmp/ipykernel_3863404/1824304249.py\u001b[0m in \u001b[0;36m<module>\u001b[0;34m\u001b[0m\n\u001b[1;32m      1\u001b[0m \u001b[0;31m# Clean the data for each module\u001b[0m\u001b[0;34m\u001b[0m\u001b[0;34m\u001b[0m\u001b[0m\n\u001b[0;32m----> 2\u001b[0;31m \u001b[0mangular_df\u001b[0m \u001b[0;34m=\u001b[0m \u001b[0mclean_data\u001b[0m\u001b[0;34m(\u001b[0m\u001b[0mangular_data\u001b[0m\u001b[0;34m,\u001b[0m \u001b[0;34m[\u001b[0m\u001b[0mjava_data\u001b[0m\u001b[0;34m,\u001b[0m \u001b[0mflask_data\u001b[0m\u001b[0;34m]\u001b[0m\u001b[0;34m,\u001b[0m \u001b[0;34m'hed__Contact__c'\u001b[0m\u001b[0;34m)\u001b[0m\u001b[0;34m\u001b[0m\u001b[0;34m\u001b[0m\u001b[0m\n\u001b[0m",
      "\u001b[0;32m/tmp/ipykernel_3863404/763438583.py\u001b[0m in \u001b[0;36mclean_data\u001b[0;34m(df, next_module_df, prerequisite_col)\u001b[0m\n\u001b[1;32m      5\u001b[0m \u001b[0;34m\u001b[0m\u001b[0m\n\u001b[1;32m      6\u001b[0m     \u001b[0;31m# Exclude students who scored below 50% and not enrolled in the next module\u001b[0m\u001b[0;34m\u001b[0m\u001b[0;34m\u001b[0m\u001b[0m\n\u001b[0;32m----> 7\u001b[0;31m     \u001b[0mnext_module_ids\u001b[0m \u001b[0;34m=\u001b[0m \u001b[0mset\u001b[0m\u001b[0;34m(\u001b[0m\u001b[0mnext_module_df\u001b[0m\u001b[0;34m[\u001b[0m\u001b[0;34m'hed__Contact__c'\u001b[0m\u001b[0;34m]\u001b[0m\u001b[0;34m)\u001b[0m\u001b[0;34m\u001b[0m\u001b[0;34m\u001b[0m\u001b[0m\n\u001b[0m\u001b[1;32m      8\u001b[0m     \u001b[0mdf\u001b[0m \u001b[0;34m=\u001b[0m \u001b[0mdf\u001b[0m\u001b[0;34m[\u001b[0m\u001b[0;34m(\u001b[0m\u001b[0mdf\u001b[0m\u001b[0;34m[\u001b[0m\u001b[0;34m'IP_Grade_Average__c'\u001b[0m\u001b[0;34m]\u001b[0m \u001b[0;34m>=\u001b[0m \u001b[0;36m50\u001b[0m\u001b[0;34m)\u001b[0m \u001b[0;34m&\u001b[0m \u001b[0;34m(\u001b[0m\u001b[0mdf\u001b[0m\u001b[0;34m[\u001b[0m\u001b[0;34m'hed__Contact__c'\u001b[0m\u001b[0;34m]\u001b[0m\u001b[0;34m.\u001b[0m\u001b[0misin\u001b[0m\u001b[0;34m(\u001b[0m\u001b[0mnext_module_ids\u001b[0m\u001b[0;34m)\u001b[0m\u001b[0;34m)\u001b[0m\u001b[0;34m]\u001b[0m\u001b[0;34m\u001b[0m\u001b[0;34m\u001b[0m\u001b[0m\n\u001b[1;32m      9\u001b[0m \u001b[0;34m\u001b[0m\u001b[0m\n",
      "\u001b[0;31mTypeError\u001b[0m: list indices must be integers or slices, not str"
     ]
    }
   ],
   "source": [
    "# Clean the data for each module\n",
    "angular_df = clean_data(angular_data, [java_data, flask_data], 'hed__Contact__c')"
   ]
  },
  {
   "cell_type": "code",
   "execution_count": null,
   "id": "879b9191",
   "metadata": {},
   "outputs": [],
   "source": []
  }
 ],
 "metadata": {
  "kernelspec": {
   "display_name": "Python 3 (ipykernel)",
   "language": "python",
   "name": "python3"
  },
  "language_info": {
   "codemirror_mode": {
    "name": "ipython",
    "version": 3
   },
   "file_extension": ".py",
   "mimetype": "text/x-python",
   "name": "python",
   "nbconvert_exporter": "python",
   "pygments_lexer": "ipython3",
   "version": "3.9.7"
  }
 },
 "nbformat": 4,
 "nbformat_minor": 5
}
