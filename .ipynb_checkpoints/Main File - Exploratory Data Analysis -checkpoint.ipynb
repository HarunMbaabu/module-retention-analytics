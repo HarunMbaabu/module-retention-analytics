{
 "cells": [
  {
   "cell_type": "code",
   "execution_count": 89,
   "id": "d668d30b",
   "metadata": {},
   "outputs": [],
   "source": [
    "#Import the Neccessary Packages\n",
    "import pandas as pd"
   ]
  },
  {
   "cell_type": "code",
   "execution_count": 90,
   "id": "47ad037e",
   "metadata": {},
   "outputs": [],
   "source": [
    "java_data =  pd.read_csv(\"Data/Java.csv\") "
   ]
  },
  {
   "cell_type": "code",
   "execution_count": 91,
   "id": "cd23e955",
   "metadata": {},
   "outputs": [],
   "source": [
    "django_data = pd.read_csv(\"Data/Django.csv\")"
   ]
  },
  {
   "cell_type": "code",
   "execution_count": 92,
   "id": "d9876a10",
   "metadata": {},
   "outputs": [],
   "source": [
    "angular_data = pd.read_csv(\"Data/Angular.csv\")"
   ]
  },
  {
   "cell_type": "code",
   "execution_count": 93,
   "id": "0a282612",
   "metadata": {},
   "outputs": [],
   "source": [
    "android_data = pd.read_csv(\"Data/Android.csv\")"
   ]
  },
  {
   "cell_type": "code",
   "execution_count": 94,
   "id": "f777e245",
   "metadata": {},
   "outputs": [],
   "source": [
    "flask_data = pd.read_csv(\"Data/Python_Flask.csv\")"
   ]
  },
  {
   "cell_type": "code",
   "execution_count": 95,
   "id": "906563ab",
   "metadata": {},
   "outputs": [],
   "source": [
    "prof_dev_data = pd.read_csv(\"Data/Professional Development.csv\")"
   ]
  },
  {
   "cell_type": "code",
   "execution_count": 96,
   "id": "1261e482",
   "metadata": {},
   "outputs": [],
   "source": [
    "sw_dev_data  = pd.read_csv(\"Data/Intro_to_Software_Development.csv\")"
   ]
  },
  {
   "cell_type": "code",
   "execution_count": 97,
   "id": "71c7dd81",
   "metadata": {},
   "outputs": [],
   "source": [
    "def clean_data(data, next_module_data=None):\n",
    "    # Drop rows with missing values for metrics\n",
    "    data = data.dropna(subset=['mor_Attendance_Score__c', 'IP_Grade_Average__c',\n",
    "                               'mor_Total_Activity_Time__c', 'Participations_Level__c',\n",
    "                               'Page_Views_Level__c'])\n",
    "    \n",
    "    # Exclude students who have none of the provided metrics (dropouts)\n",
    "    data = data[data.notnull().any(axis=1)]\n",
    "    \n",
    "    # Exclude students who scored below 50% without enrollment in the next module (failures)\n",
    "    if next_module_data is not None:\n",
    "        failed_students = data[(data['IP_Grade_Average__c'] < 50) & (~data['hed__Contact__c'].isin(next_module_data['hed__Contact__c']))]\n",
    "        data = data.drop(failed_students.index)\n",
    "    \n",
    "    # Enforce prerequisite course connections\n",
    "    if 'Angular' in data['hed__Course_Offering__c'].values:\n",
    "        data = data.drop_duplicates(subset='hed__Contact__c', keep='last')\n",
    "    elif 'Java/Python' in data['hed__Course_Offering__c'].values:\n",
    "        data = data.drop_duplicates(subset='hed__Contact__c', keep='first')\n",
    "    elif 'Android/Django' in data['hed__Course_Offering__c'].values:\n",
    "        data = data.drop_duplicates(subset='hed__Contact__c', keep='first')\n",
    "\n",
    "    return data\n"
   ]
  },
  {
   "cell_type": "code",
   "execution_count": 98,
   "id": "a9939ba0",
   "metadata": {},
   "outputs": [
    {
     "data": {
      "text/html": [
       "<div>\n",
       "<style scoped>\n",
       "    .dataframe tbody tr th:only-of-type {\n",
       "        vertical-align: middle;\n",
       "    }\n",
       "\n",
       "    .dataframe tbody tr th {\n",
       "        vertical-align: top;\n",
       "    }\n",
       "\n",
       "    .dataframe thead th {\n",
       "        text-align: right;\n",
       "    }\n",
       "</style>\n",
       "<table border=\"1\" class=\"dataframe\">\n",
       "  <thead>\n",
       "    <tr style=\"text-align: right;\">\n",
       "      <th></th>\n",
       "      <th>hed__Contact__c</th>\n",
       "      <th>mor_Attendance_Score__c</th>\n",
       "      <th>IP_Grade_Average__c</th>\n",
       "      <th>mor_Total_Activity_Time__c</th>\n",
       "      <th>Participations_Level__c</th>\n",
       "      <th>Page_Views_Level__c</th>\n",
       "      <th>hed__Course_Offering__c</th>\n",
       "      <th>Prerequisite_Course_Connection__c</th>\n",
       "    </tr>\n",
       "  </thead>\n",
       "  <tbody>\n",
       "    <tr>\n",
       "      <th>2</th>\n",
       "      <td>0034K00000BAy3UQAT</td>\n",
       "      <td>100.0</td>\n",
       "      <td>98.61</td>\n",
       "      <td>1158852.0</td>\n",
       "      <td>2.0</td>\n",
       "      <td>3.0</td>\n",
       "      <td>a0R4K000001ynYnUAI</td>\n",
       "      <td>NaN</td>\n",
       "    </tr>\n",
       "    <tr>\n",
       "      <th>5</th>\n",
       "      <td>0034K00000B8gOCQAZ</td>\n",
       "      <td>100.0</td>\n",
       "      <td>0.00</td>\n",
       "      <td>0.0</td>\n",
       "      <td>0.0</td>\n",
       "      <td>1.0</td>\n",
       "      <td>a0R4K000001ynYnUAI</td>\n",
       "      <td>NaN</td>\n",
       "    </tr>\n",
       "  </tbody>\n",
       "</table>\n",
       "</div>"
      ],
      "text/plain": [
       "      hed__Contact__c  mor_Attendance_Score__c  IP_Grade_Average__c  \\\n",
       "2  0034K00000BAy3UQAT                    100.0                98.61   \n",
       "5  0034K00000B8gOCQAZ                    100.0                 0.00   \n",
       "\n",
       "   mor_Total_Activity_Time__c  Participations_Level__c  Page_Views_Level__c  \\\n",
       "2                   1158852.0                      2.0                  3.0   \n",
       "5                         0.0                      0.0                  1.0   \n",
       "\n",
       "  hed__Course_Offering__c  Prerequisite_Course_Connection__c  \n",
       "2      a0R4K000001ynYnUAI                                NaN  \n",
       "5      a0R4K000001ynYnUAI                                NaN  "
      ]
     },
     "execution_count": 98,
     "metadata": {},
     "output_type": "execute_result"
    }
   ],
   "source": [
    "sw_dev_data_cleaned = clean_data(sw_dev_data)\n",
    "sw_dev_data_cleaned.head(2)"
   ]
  },
  {
   "cell_type": "code",
   "execution_count": 99,
   "id": "c381c621",
   "metadata": {},
   "outputs": [
    {
     "data": {
      "text/plain": [
       "hed__Contact__c                        0\n",
       "mor_Attendance_Score__c                0\n",
       "IP_Grade_Average__c                    0\n",
       "mor_Total_Activity_Time__c             0\n",
       "Participations_Level__c                0\n",
       "Page_Views_Level__c                    0\n",
       "hed__Course_Offering__c                0\n",
       "Prerequisite_Course_Connection__c    117\n",
       "dtype: int64"
      ]
     },
     "execution_count": 99,
     "metadata": {},
     "output_type": "execute_result"
    }
   ],
   "source": [
    "sw_dev_missing_values = sw_dev_data_cleaned.isnull().sum()\n",
    "sw_dev_missing_values"
   ]
  },
  {
   "cell_type": "code",
   "execution_count": 100,
   "id": "879b9191",
   "metadata": {},
   "outputs": [
    {
     "data": {
      "text/html": [
       "<div>\n",
       "<style scoped>\n",
       "    .dataframe tbody tr th:only-of-type {\n",
       "        vertical-align: middle;\n",
       "    }\n",
       "\n",
       "    .dataframe tbody tr th {\n",
       "        vertical-align: top;\n",
       "    }\n",
       "\n",
       "    .dataframe thead th {\n",
       "        text-align: right;\n",
       "    }\n",
       "</style>\n",
       "<table border=\"1\" class=\"dataframe\">\n",
       "  <thead>\n",
       "    <tr style=\"text-align: right;\">\n",
       "      <th></th>\n",
       "      <th>hed__Contact__c</th>\n",
       "      <th>mor_Attendance_Score__c</th>\n",
       "      <th>IP_Grade_Average__c</th>\n",
       "      <th>mor_Total_Activity_Time__c</th>\n",
       "      <th>Participations_Level__c</th>\n",
       "      <th>Page_Views_Level__c</th>\n",
       "      <th>hed__Course_Offering__c</th>\n",
       "      <th>Prerequisite_Course_Connection__c</th>\n",
       "    </tr>\n",
       "  </thead>\n",
       "  <tbody>\n",
       "    <tr>\n",
       "      <th>2</th>\n",
       "      <td>0034K000009yExdQAE</td>\n",
       "      <td>100.0</td>\n",
       "      <td>80.2725</td>\n",
       "      <td>677572.0</td>\n",
       "      <td>2.0</td>\n",
       "      <td>2.0</td>\n",
       "      <td>a0R4K000001z5CJUAY</td>\n",
       "      <td>a0P4K000000fx1yUAA</td>\n",
       "    </tr>\n",
       "    <tr>\n",
       "      <th>3</th>\n",
       "      <td>0034K00000B8gNoQAJ</td>\n",
       "      <td>100.0</td>\n",
       "      <td>77.0775</td>\n",
       "      <td>170711.0</td>\n",
       "      <td>3.0</td>\n",
       "      <td>1.0</td>\n",
       "      <td>a0R4K000001z5CJUAY</td>\n",
       "      <td>a0P4K000000fx2rUAA</td>\n",
       "    </tr>\n",
       "  </tbody>\n",
       "</table>\n",
       "</div>"
      ],
      "text/plain": [
       "      hed__Contact__c  mor_Attendance_Score__c  IP_Grade_Average__c  \\\n",
       "2  0034K000009yExdQAE                    100.0              80.2725   \n",
       "3  0034K00000B8gNoQAJ                    100.0              77.0775   \n",
       "\n",
       "   mor_Total_Activity_Time__c  Participations_Level__c  Page_Views_Level__c  \\\n",
       "2                    677572.0                      2.0                  2.0   \n",
       "3                    170711.0                      3.0                  1.0   \n",
       "\n",
       "  hed__Course_Offering__c Prerequisite_Course_Connection__c  \n",
       "2      a0R4K000001z5CJUAY                a0P4K000000fx1yUAA  \n",
       "3      a0R4K000001z5CJUAY                a0P4K000000fx2rUAA  "
      ]
     },
     "execution_count": 100,
     "metadata": {},
     "output_type": "execute_result"
    }
   ],
   "source": [
    "java_data_cleaned = clean_data(java_data)\n",
    "java_data_cleaned.head(2)"
   ]
  },
  {
   "cell_type": "code",
   "execution_count": 101,
   "id": "d7e0c42f",
   "metadata": {},
   "outputs": [
    {
     "data": {
      "text/plain": [
       "hed__Contact__c                      0\n",
       "mor_Attendance_Score__c              0\n",
       "IP_Grade_Average__c                  0\n",
       "mor_Total_Activity_Time__c           0\n",
       "Participations_Level__c              0\n",
       "Page_Views_Level__c                  0\n",
       "hed__Course_Offering__c              0\n",
       "Prerequisite_Course_Connection__c    0\n",
       "dtype: int64"
      ]
     },
     "execution_count": 101,
     "metadata": {},
     "output_type": "execute_result"
    }
   ],
   "source": [
    "#check for Missing Values\n",
    "java_missing_values = java_data_cleaned.isnull().sum()\n",
    "java_missing_values"
   ]
  },
  {
   "cell_type": "code",
   "execution_count": 102,
   "id": "1216bb74",
   "metadata": {},
   "outputs": [
    {
     "data": {
      "text/html": [
       "<div>\n",
       "<style scoped>\n",
       "    .dataframe tbody tr th:only-of-type {\n",
       "        vertical-align: middle;\n",
       "    }\n",
       "\n",
       "    .dataframe tbody tr th {\n",
       "        vertical-align: top;\n",
       "    }\n",
       "\n",
       "    .dataframe thead th {\n",
       "        text-align: right;\n",
       "    }\n",
       "</style>\n",
       "<table border=\"1\" class=\"dataframe\">\n",
       "  <thead>\n",
       "    <tr style=\"text-align: right;\">\n",
       "      <th></th>\n",
       "      <th>hed__Contact__c</th>\n",
       "      <th>mor_Attendance_Score__c</th>\n",
       "      <th>IP_Grade_Average__c</th>\n",
       "      <th>mor_Total_Activity_Time__c</th>\n",
       "      <th>Participations_Level__c</th>\n",
       "      <th>Page_Views_Level__c</th>\n",
       "      <th>hed__Course_Offering__c</th>\n",
       "      <th>Prerequisite_Course_Connection__c</th>\n",
       "    </tr>\n",
       "  </thead>\n",
       "  <tbody>\n",
       "    <tr>\n",
       "      <th>1</th>\n",
       "      <td>0034K00000BAy34QAD</td>\n",
       "      <td>100.0</td>\n",
       "      <td>93.180</td>\n",
       "      <td>887219.0</td>\n",
       "      <td>2.0</td>\n",
       "      <td>3.0</td>\n",
       "      <td>a0R4K000001z5C4UAI</td>\n",
       "      <td>a0P4K000000fx1fUAA</td>\n",
       "    </tr>\n",
       "    <tr>\n",
       "      <th>2</th>\n",
       "      <td>0034K00000B8gOhQAJ</td>\n",
       "      <td>100.0</td>\n",
       "      <td>74.035</td>\n",
       "      <td>137896.0</td>\n",
       "      <td>3.0</td>\n",
       "      <td>2.0</td>\n",
       "      <td>a0R4K000001z5C4UAI</td>\n",
       "      <td>a0P4K000000fx1hUAA</td>\n",
       "    </tr>\n",
       "  </tbody>\n",
       "</table>\n",
       "</div>"
      ],
      "text/plain": [
       "      hed__Contact__c  mor_Attendance_Score__c  IP_Grade_Average__c  \\\n",
       "1  0034K00000BAy34QAD                    100.0               93.180   \n",
       "2  0034K00000B8gOhQAJ                    100.0               74.035   \n",
       "\n",
       "   mor_Total_Activity_Time__c  Participations_Level__c  Page_Views_Level__c  \\\n",
       "1                    887219.0                      2.0                  3.0   \n",
       "2                    137896.0                      3.0                  2.0   \n",
       "\n",
       "  hed__Course_Offering__c Prerequisite_Course_Connection__c  \n",
       "1      a0R4K000001z5C4UAI                a0P4K000000fx1fUAA  \n",
       "2      a0R4K000001z5C4UAI                a0P4K000000fx1hUAA  "
      ]
     },
     "execution_count": 102,
     "metadata": {},
     "output_type": "execute_result"
    }
   ],
   "source": [
    "flask_data_cleaned = clean_data(flask_data)\n",
    "flask_data_cleaned.head(2)"
   ]
  },
  {
   "cell_type": "code",
   "execution_count": 103,
   "id": "801ca1ae",
   "metadata": {},
   "outputs": [
    {
     "data": {
      "text/plain": [
       "hed__Contact__c                      0\n",
       "mor_Attendance_Score__c              0\n",
       "IP_Grade_Average__c                  0\n",
       "mor_Total_Activity_Time__c           0\n",
       "Participations_Level__c              0\n",
       "Page_Views_Level__c                  0\n",
       "hed__Course_Offering__c              0\n",
       "Prerequisite_Course_Connection__c    0\n",
       "dtype: int64"
      ]
     },
     "execution_count": 103,
     "metadata": {},
     "output_type": "execute_result"
    }
   ],
   "source": [
    "flask_missing_values = flask_data_cleaned.isnull().sum()\n",
    "flask_missing_values"
   ]
  },
  {
   "cell_type": "code",
   "execution_count": 104,
   "id": "72cd3714",
   "metadata": {},
   "outputs": [
    {
     "data": {
      "text/html": [
       "<div>\n",
       "<style scoped>\n",
       "    .dataframe tbody tr th:only-of-type {\n",
       "        vertical-align: middle;\n",
       "    }\n",
       "\n",
       "    .dataframe tbody tr th {\n",
       "        vertical-align: top;\n",
       "    }\n",
       "\n",
       "    .dataframe thead th {\n",
       "        text-align: right;\n",
       "    }\n",
       "</style>\n",
       "<table border=\"1\" class=\"dataframe\">\n",
       "  <thead>\n",
       "    <tr style=\"text-align: right;\">\n",
       "      <th></th>\n",
       "      <th>hed__Contact__c</th>\n",
       "      <th>mor_Attendance_Score__c</th>\n",
       "      <th>IP_Grade_Average__c</th>\n",
       "      <th>mor_Total_Activity_Time__c</th>\n",
       "      <th>Participations_Level__c</th>\n",
       "      <th>Page_Views_Level__c</th>\n",
       "      <th>hed__Course_Offering__c</th>\n",
       "      <th>Prerequisite_Course_Connection__c</th>\n",
       "    </tr>\n",
       "  </thead>\n",
       "  <tbody>\n",
       "    <tr>\n",
       "      <th>1</th>\n",
       "      <td>0034K00000BAy34QAD</td>\n",
       "      <td>100.0</td>\n",
       "      <td>88.635</td>\n",
       "      <td>518086.0</td>\n",
       "      <td>1.0</td>\n",
       "      <td>3.0</td>\n",
       "      <td>a0R4K000001z16cUAA</td>\n",
       "      <td>a0P4K000001LuzRUAS</td>\n",
       "    </tr>\n",
       "    <tr>\n",
       "      <th>2</th>\n",
       "      <td>0034K00000B8gO1QAJ</td>\n",
       "      <td>100.0</td>\n",
       "      <td>71.590</td>\n",
       "      <td>219604.0</td>\n",
       "      <td>3.0</td>\n",
       "      <td>3.0</td>\n",
       "      <td>a0R4K000001z16cUAA</td>\n",
       "      <td>a0P4K000001LuzTUAS</td>\n",
       "    </tr>\n",
       "  </tbody>\n",
       "</table>\n",
       "</div>"
      ],
      "text/plain": [
       "      hed__Contact__c  mor_Attendance_Score__c  IP_Grade_Average__c  \\\n",
       "1  0034K00000BAy34QAD                    100.0               88.635   \n",
       "2  0034K00000B8gO1QAJ                    100.0               71.590   \n",
       "\n",
       "   mor_Total_Activity_Time__c  Participations_Level__c  Page_Views_Level__c  \\\n",
       "1                    518086.0                      1.0                  3.0   \n",
       "2                    219604.0                      3.0                  3.0   \n",
       "\n",
       "  hed__Course_Offering__c Prerequisite_Course_Connection__c  \n",
       "1      a0R4K000001z16cUAA                a0P4K000001LuzRUAS  \n",
       "2      a0R4K000001z16cUAA                a0P4K000001LuzTUAS  "
      ]
     },
     "execution_count": 104,
     "metadata": {},
     "output_type": "execute_result"
    }
   ],
   "source": [
    "# Clean the data for each module\n",
    "angular_data_cleaned = clean_data(angular_data)\n",
    "angular_data_cleaned.head(2)"
   ]
  },
  {
   "cell_type": "code",
   "execution_count": 105,
   "id": "311f9962",
   "metadata": {},
   "outputs": [
    {
     "ename": "AttributeError",
     "evalue": "'str' object has no attribute 'head'",
     "output_type": "error",
     "traceback": [
      "\u001b[0;31m---------------------------------------------------------------------------\u001b[0m",
      "\u001b[0;31mAttributeError\u001b[0m                            Traceback (most recent call last)",
      "\u001b[0;32m/tmp/ipykernel_8234/3229710655.py\u001b[0m in \u001b[0;36m<module>\u001b[0;34m\u001b[0m\n\u001b[1;32m      1\u001b[0m \u001b[0mandroid_data_cleaned\u001b[0m \u001b[0;34m=\u001b[0m \u001b[0mclean_data\u001b[0m\u001b[0;34m(\u001b[0m\u001b[0mandroid_data\u001b[0m\u001b[0;34m)\u001b[0m\u001b[0;34m\u001b[0m\u001b[0;34m\u001b[0m\u001b[0m\n\u001b[0;32m----> 2\u001b[0;31m \u001b[0;34m\"android_data_cleaned\"\u001b[0m\u001b[0;34m.\u001b[0m\u001b[0mhead\u001b[0m\u001b[0;34m(\u001b[0m\u001b[0;36m2\u001b[0m\u001b[0;34m)\u001b[0m\u001b[0;34m\u001b[0m\u001b[0;34m\u001b[0m\u001b[0m\n\u001b[0m",
      "\u001b[0;31mAttributeError\u001b[0m: 'str' object has no attribute 'head'"
     ]
    }
   ],
   "source": [
    "android_data_cleaned = clean_data(android_data)\n",
    "android_data_cleaned.head(2)"
   ]
  },
  {
   "cell_type": "code",
   "execution_count": null,
   "id": "a743a132",
   "metadata": {},
   "outputs": [],
   "source": [
    "django_data_cleaned = clean_data(django_data)\n",
    "django_data_cleaned.head(2)"
   ]
  },
  {
   "cell_type": "code",
   "execution_count": null,
   "id": "3236a4ee",
   "metadata": {},
   "outputs": [],
   "source": [
    "prof_dev_data_cleaned = clean_data(prof_dev_data)\n",
    "prof_dev_data_cleaned.head(2)"
   ]
  },
  {
   "cell_type": "code",
   "execution_count": null,
   "id": "7289c6b1",
   "metadata": {},
   "outputs": [],
   "source": [
    "prof_dev__missing_values = prof_dev_data_cleaned.isnull().sum()\n",
    "prof_dev__missing_values"
   ]
  },
  {
   "cell_type": "code",
   "execution_count": null,
   "id": "104ab5a2",
   "metadata": {},
   "outputs": [],
   "source": [
    "#Explore Professional Development More\n",
    "prof_dev_data.shape"
   ]
  },
  {
   "cell_type": "code",
   "execution_count": null,
   "id": "4f9cdbd0",
   "metadata": {},
   "outputs": [],
   "source": [
    "prof_dev_data.isnull().sum()"
   ]
  },
  {
   "cell_type": "code",
   "execution_count": null,
   "id": "39829982",
   "metadata": {},
   "outputs": [],
   "source": [
    "#Drop, mor_Attendance_Score__c, IP_Grade_Average__c , Prerequisite_Course_Connection__c column since they are empyt\n",
    "new_prof_dev_data = prof_dev_data.drop(['mor_Attendance_Score__c', 'IP_Grade_Average__c', 'Prerequisite_Course_Connection__c'], axis=1)\n",
    "new_prof_dev_data\n"
   ]
  },
  {
   "cell_type": "code",
   "execution_count": null,
   "id": "6071171d",
   "metadata": {},
   "outputs": [],
   "source": [
    "new_prof_dev_data = new_prof_dev_data.dropna(subset=['mor_Total_Activity_Time__c', 'Page_Views_Level__c'])\n",
    "new_prof_dev_data"
   ]
  },
  {
   "cell_type": "code",
   "execution_count": null,
   "id": "c9a2084b",
   "metadata": {},
   "outputs": [],
   "source": [
    "# Print the final enrollment numbers for each module\n",
    "print(\"Intro to Software Development Enrollment:\", sw_dev_data_cleaned)"
   ]
  },
  {
   "cell_type": "code",
   "execution_count": null,
   "id": "fc1cbc64",
   "metadata": {},
   "outputs": [],
   "source": [
    "# Optinal Step: Function to save cleaned data as CSV\n",
    "\n",
    "def save_cleaned_data(data, module_name):\n",
    "    folder_path = os.path.join('Data', 'clean_data')\n",
    "    os.makedirs(folder_path, exist_ok=True)\n",
    "    file_path = os.path.join(folder_path, f'{module_name}_cleaned.csv')\n",
    "    data.to_csv(file_path, index=False)\n",
    "    print(f\"Cleaned data for {module_name} module saved successfully.\")"
   ]
  },
  {
   "cell_type": "code",
   "execution_count": null,
   "id": "cc7c29b6",
   "metadata": {},
   "outputs": [],
   "source": [
    "# Save the cleaned data frames\n",
    "save_cleaned_data(sw_dev_data_cleaned, 'sw_dev_data')\n",
    "save_cleaned_data(java_data_cleaned, 'java_data')\n",
    "save_cleaned_data(flask_data_cleaned, 'flask_data')\n",
    "save_cleaned_data(angular_data_cleaned, 'angular_data')\n",
    "save_cleaned_data(android_data_cleaned, 'android_data')\n",
    "save_cleaned_data(django_data_cleaned, 'django_data')\n",
    "save_cleaned_data(prof_dev_data_cleaned, 'prof_dev_data')"
   ]
  },
  {
   "cell_type": "markdown",
   "id": "d965b0bf",
   "metadata": {},
   "source": [
    "### **My Approach**\n",
    "\n",
    "**Step 1:** i imported all the neccessary package, for this case we just needed pandas. \n",
    "\n",
    "**Step 2:** I loaded the data into our workbook, i downloaded the data and stored it in \"Data\" folder inside our work directory. \n",
    "\n",
    "\n",
    "**Step 3:** I then Performed exploratory data annalysis, EDA, where i cleaned up the provided data applying the stated assumption. In my case i went through the data for each module and perform the necessary filtering and exclusions. \n",
    "\n",
    ">> I used a Python function in this step to avoid repeating the block of code for cleanng the data.\n",
    "\n",
    "\n",
    "Here's my process for each module:\n",
    "\n",
    "**I). Intro to Software Development:**\n",
    "- I excluded students who have none of the provided metrics, as they are presumed to have dropped out, then i only kept the students who scored 50% or above, as they are considered to have passed and calculated the final enrollment number for this module by counting the remaining students. \n",
    "\n",
    "\n",
    "**II). Angular:**\n",
    "\n",
    "- I excluded students who had none of the provided metrics as they were presumed to have dropped out. I kept only the students who scored 50% or above, considering them to have passed. Additionally, I excluded students who were enrolled in both Java and Python, as they were not allowed to enroll in both simultaneously. Lastly, I calculated the final enrollment number for the module by counting the remaining students. \n",
    "\n",
    "**III). Java/Python:**\n",
    "- I excluded students who had none of the provided metrics, as they were presumed to have dropped out. I kept only the students who scored 50% or above, as they were considered to have passed. I excluded students who were enrolled in Android or Django, based on their prerequisite course connection. I calculated the final enrollment number for each sub-module (Java and Python) by counting the remaining students.\n",
    "\n",
    "\n",
    "**IV). Android/Django:**\n",
    "\n",
    "-  I excluded students who had none of the provided metrics as they were presumed to have dropped out. I kept only the students who scored 50% or above, considering them to have passed. Additionally, I excluded students who were enrolled in Professional Development based on their prerequisite course connection. Finally, I calculated the final enrollment number for each sub-module (Android and Django) by counting the remaining students.\n",
    "\n",
    "**V). Professional Development:**\n",
    "- I excluded students who had none of the provided metrics as they were presumed to have dropped out. I kept only the students who scored 50% or above, considering them to have passed. I calculated the final enrollment number for that module by counting the remaining students.\n",
    "\n",
    "\n",
    "**Step 4:** Lastly, i saved the cleaned data as CSV in the **clean_data** folder inside the **Data** Folder."
   ]
  },
  {
   "cell_type": "markdown",
   "id": "2181b9db",
   "metadata": {},
   "source": [
    "\n",
    "----\n",
    "**Bonus:**\n",
    "    - Avoided importing more packages since we are only using code to avoid loading unneccessary packages in out workbook. \n",
    "    - Used  \"clean_data\" function to encapsulate a specific set of data processing tasks related to data cleaning. It helped improve code readability, organization, and maintainability."
   ]
  }
 ],
 "metadata": {
  "kernelspec": {
   "display_name": "Python 3 (ipykernel)",
   "language": "python",
   "name": "python3"
  },
  "language_info": {
   "codemirror_mode": {
    "name": "ipython",
    "version": 3
   },
   "file_extension": ".py",
   "mimetype": "text/x-python",
   "name": "python",
   "nbconvert_exporter": "python",
   "pygments_lexer": "ipython3",
   "version": "3.9.7"
  }
 },
 "nbformat": 4,
 "nbformat_minor": 5
}
