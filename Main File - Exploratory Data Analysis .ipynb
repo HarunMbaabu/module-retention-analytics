{
 "cells": [
  {
   "cell_type": "code",
   "execution_count": 3,
   "id": "d668d30b",
   "metadata": {},
   "outputs": [],
   "source": [
    "#Import the Neccessary Packages\n",
    "import pandas as pd"
   ]
  },
  {
   "cell_type": "code",
   "execution_count": 4,
   "id": "47ad037e",
   "metadata": {},
   "outputs": [],
   "source": [
    "java_data =  pd.read_csv(\"Data/Java.csv\") "
   ]
  },
  {
   "cell_type": "code",
   "execution_count": 5,
   "id": "cd23e955",
   "metadata": {},
   "outputs": [],
   "source": [
    "django_data = pd.read_csv(\"Data/Django.csv\")"
   ]
  },
  {
   "cell_type": "code",
   "execution_count": 6,
   "id": "d9876a10",
   "metadata": {},
   "outputs": [],
   "source": [
    "angular_data = pd.read_csv(\"Data/Angular.csv\")"
   ]
  },
  {
   "cell_type": "code",
   "execution_count": 7,
   "id": "0a282612",
   "metadata": {},
   "outputs": [],
   "source": [
    "android_data = pd.read_csv(\"Data/Android.csv\")"
   ]
  },
  {
   "cell_type": "code",
   "execution_count": 8,
   "id": "f777e245",
   "metadata": {},
   "outputs": [],
   "source": [
    "flask_data = pd.read_csv(\"Data/Python_Flask.csv\")"
   ]
  },
  {
   "cell_type": "code",
   "execution_count": 9,
   "id": "906563ab",
   "metadata": {},
   "outputs": [],
   "source": [
    "prof_dev_data = pd.read_csv(\"Data/Professional Development.csv\")"
   ]
  },
  {
   "cell_type": "code",
   "execution_count": 10,
   "id": "1261e482",
   "metadata": {},
   "outputs": [],
   "source": [
    "sw_dev_data  = pd.read_csv(\"Data/Intro_to_Software_Development.csv\")"
   ]
  },
  {
   "cell_type": "code",
   "execution_count": 11,
   "id": "71c7dd81",
   "metadata": {},
   "outputs": [],
   "source": [
    "# Define a function to clean the data based on the given assumptions\n",
    "def clean_data(data):\n",
    "    # Drop rows with missing values for metrics\n",
    "    data = data.dropna(subset=['mor_Attendance_Score__c', 'IP_Grade_Average__c',\n",
    "                               'mor_Total_Activity_Time__c', 'Participations_Level__c',\n",
    "                               'Page_Views_Level__c'])\n",
    "    \n",
    "    \n",
    "    # Identify dropouts (students without any metrics)\n",
    "    dropouts = data[data.isnull().all(axis=1)]\n",
    "    data = data.drop(dropouts.index)\n",
    "    \n",
    "    \n",
    "    # Identify failures (scores below 50% without enrollment in the next module)\n",
    "    failures = data[(data['IP_Grade_Average__c'] < 50) & (data['Prerequisite_Course_Connection__c'].isnull())]\n",
    "    data = data.drop(failures.index)\n",
    "    \n",
    "    \n",
    "    # Enforce prerequisite course connections\n",
    "    if 'Angular' in data['hed__Course_Offering__c'].values:\n",
    "        data = data.drop_duplicates(subset='hed__Contact__c', keep='last')\n",
    "    elif 'Java/Python' in data['hed__Course_Offering__c'].values:\n",
    "        data = data.drop_duplicates(subset='hed__Contact__c', keep='first')\n",
    "    elif 'Android/Django' in data['hed__Course_Offering__c'].values:\n",
    "        data = data.drop_duplicates(subset='hed__Contact__c', keep='first')\n",
    "    \n",
    "    return data"
   ]
  },
  {
   "cell_type": "code",
   "execution_count": 12,
   "id": "a9939ba0",
   "metadata": {},
   "outputs": [
    {
     "data": {
      "text/html": [
       "<div>\n",
       "<style scoped>\n",
       "    .dataframe tbody tr th:only-of-type {\n",
       "        vertical-align: middle;\n",
       "    }\n",
       "\n",
       "    .dataframe tbody tr th {\n",
       "        vertical-align: top;\n",
       "    }\n",
       "\n",
       "    .dataframe thead th {\n",
       "        text-align: right;\n",
       "    }\n",
       "</style>\n",
       "<table border=\"1\" class=\"dataframe\">\n",
       "  <thead>\n",
       "    <tr style=\"text-align: right;\">\n",
       "      <th></th>\n",
       "      <th>hed__Contact__c</th>\n",
       "      <th>mor_Attendance_Score__c</th>\n",
       "      <th>IP_Grade_Average__c</th>\n",
       "      <th>mor_Total_Activity_Time__c</th>\n",
       "      <th>Participations_Level__c</th>\n",
       "      <th>Page_Views_Level__c</th>\n",
       "      <th>hed__Course_Offering__c</th>\n",
       "      <th>Prerequisite_Course_Connection__c</th>\n",
       "    </tr>\n",
       "  </thead>\n",
       "  <tbody>\n",
       "    <tr>\n",
       "      <th>2</th>\n",
       "      <td>0034K00000BAy3UQAT</td>\n",
       "      <td>100.0</td>\n",
       "      <td>98.6100</td>\n",
       "      <td>1158852.0</td>\n",
       "      <td>2.0</td>\n",
       "      <td>3.0</td>\n",
       "      <td>a0R4K000001ynYnUAI</td>\n",
       "      <td>NaN</td>\n",
       "    </tr>\n",
       "    <tr>\n",
       "      <th>6</th>\n",
       "      <td>0034K000009yF7xQAE</td>\n",
       "      <td>86.0</td>\n",
       "      <td>83.1725</td>\n",
       "      <td>77853.0</td>\n",
       "      <td>2.0</td>\n",
       "      <td>1.0</td>\n",
       "      <td>a0R4K000001ynYnUAI</td>\n",
       "      <td>NaN</td>\n",
       "    </tr>\n",
       "  </tbody>\n",
       "</table>\n",
       "</div>"
      ],
      "text/plain": [
       "      hed__Contact__c  mor_Attendance_Score__c  IP_Grade_Average__c  \\\n",
       "2  0034K00000BAy3UQAT                    100.0              98.6100   \n",
       "6  0034K000009yF7xQAE                     86.0              83.1725   \n",
       "\n",
       "   mor_Total_Activity_Time__c  Participations_Level__c  Page_Views_Level__c  \\\n",
       "2                   1158852.0                      2.0                  3.0   \n",
       "6                     77853.0                      2.0                  1.0   \n",
       "\n",
       "  hed__Course_Offering__c  Prerequisite_Course_Connection__c  \n",
       "2      a0R4K000001ynYnUAI                                NaN  \n",
       "6      a0R4K000001ynYnUAI                                NaN  "
      ]
     },
     "execution_count": 12,
     "metadata": {},
     "output_type": "execute_result"
    }
   ],
   "source": [
    "sw_dev_data_cleaned = clean_data(sw_dev_data)\n",
    "sw_dev_data_cleaned.head(2)"
   ]
  },
  {
   "cell_type": "code",
   "execution_count": 13,
   "id": "c381c621",
   "metadata": {},
   "outputs": [
    {
     "data": {
      "text/plain": [
       "hed__Contact__c                       0\n",
       "mor_Attendance_Score__c               0\n",
       "IP_Grade_Average__c                   0\n",
       "mor_Total_Activity_Time__c            0\n",
       "Participations_Level__c               0\n",
       "Page_Views_Level__c                   0\n",
       "hed__Course_Offering__c               0\n",
       "Prerequisite_Course_Connection__c    91\n",
       "dtype: int64"
      ]
     },
     "execution_count": 13,
     "metadata": {},
     "output_type": "execute_result"
    }
   ],
   "source": [
    "sw_dev_missing_values = sw_dev_data_cleaned.isnull().sum()\n",
    "sw_dev_missing_values"
   ]
  },
  {
   "cell_type": "code",
   "execution_count": 14,
   "id": "879b9191",
   "metadata": {},
   "outputs": [
    {
     "data": {
      "text/html": [
       "<div>\n",
       "<style scoped>\n",
       "    .dataframe tbody tr th:only-of-type {\n",
       "        vertical-align: middle;\n",
       "    }\n",
       "\n",
       "    .dataframe tbody tr th {\n",
       "        vertical-align: top;\n",
       "    }\n",
       "\n",
       "    .dataframe thead th {\n",
       "        text-align: right;\n",
       "    }\n",
       "</style>\n",
       "<table border=\"1\" class=\"dataframe\">\n",
       "  <thead>\n",
       "    <tr style=\"text-align: right;\">\n",
       "      <th></th>\n",
       "      <th>hed__Contact__c</th>\n",
       "      <th>mor_Attendance_Score__c</th>\n",
       "      <th>IP_Grade_Average__c</th>\n",
       "      <th>mor_Total_Activity_Time__c</th>\n",
       "      <th>Participations_Level__c</th>\n",
       "      <th>Page_Views_Level__c</th>\n",
       "      <th>hed__Course_Offering__c</th>\n",
       "      <th>Prerequisite_Course_Connection__c</th>\n",
       "    </tr>\n",
       "  </thead>\n",
       "  <tbody>\n",
       "    <tr>\n",
       "      <th>2</th>\n",
       "      <td>0034K000009yExdQAE</td>\n",
       "      <td>100.0</td>\n",
       "      <td>80.2725</td>\n",
       "      <td>677572.0</td>\n",
       "      <td>2.0</td>\n",
       "      <td>2.0</td>\n",
       "      <td>a0R4K000001z5CJUAY</td>\n",
       "      <td>a0P4K000000fx1yUAA</td>\n",
       "    </tr>\n",
       "    <tr>\n",
       "      <th>3</th>\n",
       "      <td>0034K00000B8gNoQAJ</td>\n",
       "      <td>100.0</td>\n",
       "      <td>77.0775</td>\n",
       "      <td>170711.0</td>\n",
       "      <td>3.0</td>\n",
       "      <td>1.0</td>\n",
       "      <td>a0R4K000001z5CJUAY</td>\n",
       "      <td>a0P4K000000fx2rUAA</td>\n",
       "    </tr>\n",
       "  </tbody>\n",
       "</table>\n",
       "</div>"
      ],
      "text/plain": [
       "      hed__Contact__c  mor_Attendance_Score__c  IP_Grade_Average__c  \\\n",
       "2  0034K000009yExdQAE                    100.0              80.2725   \n",
       "3  0034K00000B8gNoQAJ                    100.0              77.0775   \n",
       "\n",
       "   mor_Total_Activity_Time__c  Participations_Level__c  Page_Views_Level__c  \\\n",
       "2                    677572.0                      2.0                  2.0   \n",
       "3                    170711.0                      3.0                  1.0   \n",
       "\n",
       "  hed__Course_Offering__c Prerequisite_Course_Connection__c  \n",
       "2      a0R4K000001z5CJUAY                a0P4K000000fx1yUAA  \n",
       "3      a0R4K000001z5CJUAY                a0P4K000000fx2rUAA  "
      ]
     },
     "execution_count": 14,
     "metadata": {},
     "output_type": "execute_result"
    }
   ],
   "source": [
    "java_data_cleaned = clean_data(java_data)\n",
    "java_data_cleaned.head(2)"
   ]
  },
  {
   "cell_type": "code",
   "execution_count": 15,
   "id": "d7e0c42f",
   "metadata": {},
   "outputs": [
    {
     "data": {
      "text/plain": [
       "hed__Contact__c                      0\n",
       "mor_Attendance_Score__c              0\n",
       "IP_Grade_Average__c                  0\n",
       "mor_Total_Activity_Time__c           0\n",
       "Participations_Level__c              0\n",
       "Page_Views_Level__c                  0\n",
       "hed__Course_Offering__c              0\n",
       "Prerequisite_Course_Connection__c    0\n",
       "dtype: int64"
      ]
     },
     "execution_count": 15,
     "metadata": {},
     "output_type": "execute_result"
    }
   ],
   "source": [
    "#check for Missing Values\n",
    "java_missing_values = java_data_cleaned.isnull().sum()\n",
    "java_missing_values"
   ]
  },
  {
   "cell_type": "code",
   "execution_count": 16,
   "id": "1216bb74",
   "metadata": {},
   "outputs": [
    {
     "data": {
      "text/html": [
       "<div>\n",
       "<style scoped>\n",
       "    .dataframe tbody tr th:only-of-type {\n",
       "        vertical-align: middle;\n",
       "    }\n",
       "\n",
       "    .dataframe tbody tr th {\n",
       "        vertical-align: top;\n",
       "    }\n",
       "\n",
       "    .dataframe thead th {\n",
       "        text-align: right;\n",
       "    }\n",
       "</style>\n",
       "<table border=\"1\" class=\"dataframe\">\n",
       "  <thead>\n",
       "    <tr style=\"text-align: right;\">\n",
       "      <th></th>\n",
       "      <th>hed__Contact__c</th>\n",
       "      <th>mor_Attendance_Score__c</th>\n",
       "      <th>IP_Grade_Average__c</th>\n",
       "      <th>mor_Total_Activity_Time__c</th>\n",
       "      <th>Participations_Level__c</th>\n",
       "      <th>Page_Views_Level__c</th>\n",
       "      <th>hed__Course_Offering__c</th>\n",
       "      <th>Prerequisite_Course_Connection__c</th>\n",
       "    </tr>\n",
       "  </thead>\n",
       "  <tbody>\n",
       "    <tr>\n",
       "      <th>1</th>\n",
       "      <td>0034K00000BAy34QAD</td>\n",
       "      <td>100.0</td>\n",
       "      <td>93.180</td>\n",
       "      <td>887219.0</td>\n",
       "      <td>2.0</td>\n",
       "      <td>3.0</td>\n",
       "      <td>a0R4K000001z5C4UAI</td>\n",
       "      <td>a0P4K000000fx1fUAA</td>\n",
       "    </tr>\n",
       "    <tr>\n",
       "      <th>2</th>\n",
       "      <td>0034K00000B8gOhQAJ</td>\n",
       "      <td>100.0</td>\n",
       "      <td>74.035</td>\n",
       "      <td>137896.0</td>\n",
       "      <td>3.0</td>\n",
       "      <td>2.0</td>\n",
       "      <td>a0R4K000001z5C4UAI</td>\n",
       "      <td>a0P4K000000fx1hUAA</td>\n",
       "    </tr>\n",
       "  </tbody>\n",
       "</table>\n",
       "</div>"
      ],
      "text/plain": [
       "      hed__Contact__c  mor_Attendance_Score__c  IP_Grade_Average__c  \\\n",
       "1  0034K00000BAy34QAD                    100.0               93.180   \n",
       "2  0034K00000B8gOhQAJ                    100.0               74.035   \n",
       "\n",
       "   mor_Total_Activity_Time__c  Participations_Level__c  Page_Views_Level__c  \\\n",
       "1                    887219.0                      2.0                  3.0   \n",
       "2                    137896.0                      3.0                  2.0   \n",
       "\n",
       "  hed__Course_Offering__c Prerequisite_Course_Connection__c  \n",
       "1      a0R4K000001z5C4UAI                a0P4K000000fx1fUAA  \n",
       "2      a0R4K000001z5C4UAI                a0P4K000000fx1hUAA  "
      ]
     },
     "execution_count": 16,
     "metadata": {},
     "output_type": "execute_result"
    }
   ],
   "source": [
    "flask_data_cleaned = clean_data(flask_data)\n",
    "flask_data_cleaned.head(2)"
   ]
  },
  {
   "cell_type": "code",
   "execution_count": 17,
   "id": "801ca1ae",
   "metadata": {},
   "outputs": [
    {
     "data": {
      "text/plain": [
       "hed__Contact__c                      0\n",
       "mor_Attendance_Score__c              0\n",
       "IP_Grade_Average__c                  0\n",
       "mor_Total_Activity_Time__c           0\n",
       "Participations_Level__c              0\n",
       "Page_Views_Level__c                  0\n",
       "hed__Course_Offering__c              0\n",
       "Prerequisite_Course_Connection__c    0\n",
       "dtype: int64"
      ]
     },
     "execution_count": 17,
     "metadata": {},
     "output_type": "execute_result"
    }
   ],
   "source": [
    "flask_missing_values = flask_data_cleaned.isnull().sum()\n",
    "flask_missing_values"
   ]
  },
  {
   "cell_type": "code",
   "execution_count": 18,
   "id": "72cd3714",
   "metadata": {},
   "outputs": [
    {
     "data": {
      "text/html": [
       "<div>\n",
       "<style scoped>\n",
       "    .dataframe tbody tr th:only-of-type {\n",
       "        vertical-align: middle;\n",
       "    }\n",
       "\n",
       "    .dataframe tbody tr th {\n",
       "        vertical-align: top;\n",
       "    }\n",
       "\n",
       "    .dataframe thead th {\n",
       "        text-align: right;\n",
       "    }\n",
       "</style>\n",
       "<table border=\"1\" class=\"dataframe\">\n",
       "  <thead>\n",
       "    <tr style=\"text-align: right;\">\n",
       "      <th></th>\n",
       "      <th>hed__Contact__c</th>\n",
       "      <th>mor_Attendance_Score__c</th>\n",
       "      <th>IP_Grade_Average__c</th>\n",
       "      <th>mor_Total_Activity_Time__c</th>\n",
       "      <th>Participations_Level__c</th>\n",
       "      <th>Page_Views_Level__c</th>\n",
       "      <th>hed__Course_Offering__c</th>\n",
       "      <th>Prerequisite_Course_Connection__c</th>\n",
       "    </tr>\n",
       "  </thead>\n",
       "  <tbody>\n",
       "    <tr>\n",
       "      <th>1</th>\n",
       "      <td>0034K00000BAy34QAD</td>\n",
       "      <td>100.0</td>\n",
       "      <td>88.635</td>\n",
       "      <td>518086.0</td>\n",
       "      <td>1.0</td>\n",
       "      <td>3.0</td>\n",
       "      <td>a0R4K000001z16cUAA</td>\n",
       "      <td>a0P4K000001LuzRUAS</td>\n",
       "    </tr>\n",
       "    <tr>\n",
       "      <th>2</th>\n",
       "      <td>0034K00000B8gO1QAJ</td>\n",
       "      <td>100.0</td>\n",
       "      <td>71.590</td>\n",
       "      <td>219604.0</td>\n",
       "      <td>3.0</td>\n",
       "      <td>3.0</td>\n",
       "      <td>a0R4K000001z16cUAA</td>\n",
       "      <td>a0P4K000001LuzTUAS</td>\n",
       "    </tr>\n",
       "  </tbody>\n",
       "</table>\n",
       "</div>"
      ],
      "text/plain": [
       "      hed__Contact__c  mor_Attendance_Score__c  IP_Grade_Average__c  \\\n",
       "1  0034K00000BAy34QAD                    100.0               88.635   \n",
       "2  0034K00000B8gO1QAJ                    100.0               71.590   \n",
       "\n",
       "   mor_Total_Activity_Time__c  Participations_Level__c  Page_Views_Level__c  \\\n",
       "1                    518086.0                      1.0                  3.0   \n",
       "2                    219604.0                      3.0                  3.0   \n",
       "\n",
       "  hed__Course_Offering__c Prerequisite_Course_Connection__c  \n",
       "1      a0R4K000001z16cUAA                a0P4K000001LuzRUAS  \n",
       "2      a0R4K000001z16cUAA                a0P4K000001LuzTUAS  "
      ]
     },
     "execution_count": 18,
     "metadata": {},
     "output_type": "execute_result"
    }
   ],
   "source": [
    "# Clean the data for each module\n",
    "angular_data_cleaned = clean_data(angular_data)\n",
    "angular_data_cleaned.head(2)"
   ]
  },
  {
   "cell_type": "code",
   "execution_count": 19,
   "id": "311f9962",
   "metadata": {},
   "outputs": [
    {
     "data": {
      "text/html": [
       "<div>\n",
       "<style scoped>\n",
       "    .dataframe tbody tr th:only-of-type {\n",
       "        vertical-align: middle;\n",
       "    }\n",
       "\n",
       "    .dataframe tbody tr th {\n",
       "        vertical-align: top;\n",
       "    }\n",
       "\n",
       "    .dataframe thead th {\n",
       "        text-align: right;\n",
       "    }\n",
       "</style>\n",
       "<table border=\"1\" class=\"dataframe\">\n",
       "  <thead>\n",
       "    <tr style=\"text-align: right;\">\n",
       "      <th></th>\n",
       "      <th>hed__Contact__c</th>\n",
       "      <th>mor_Attendance_Score__c</th>\n",
       "      <th>IP_Grade_Average__c</th>\n",
       "      <th>mor_Total_Activity_Time__c</th>\n",
       "      <th>Participations_Level__c</th>\n",
       "      <th>Page_Views_Level__c</th>\n",
       "      <th>hed__Course_Offering__c</th>\n",
       "      <th>Prerequisite_Course_Connection__c</th>\n",
       "    </tr>\n",
       "  </thead>\n",
       "  <tbody>\n",
       "    <tr>\n",
       "      <th>2</th>\n",
       "      <td>0034K00000B8gO1QAJ</td>\n",
       "      <td>78.0</td>\n",
       "      <td>23.61</td>\n",
       "      <td>239165.0</td>\n",
       "      <td>2.0</td>\n",
       "      <td>2.0</td>\n",
       "      <td>a0R4K0000020w2DUAQ</td>\n",
       "      <td>a0P4K0000012KbmUAE</td>\n",
       "    </tr>\n",
       "    <tr>\n",
       "      <th>3</th>\n",
       "      <td>0034K00000BAy3KQAT</td>\n",
       "      <td>96.0</td>\n",
       "      <td>95.00</td>\n",
       "      <td>1238278.0</td>\n",
       "      <td>2.0</td>\n",
       "      <td>2.0</td>\n",
       "      <td>a0R4K0000020w2DUAQ</td>\n",
       "      <td>a0P4K0000012KbwUAE</td>\n",
       "    </tr>\n",
       "  </tbody>\n",
       "</table>\n",
       "</div>"
      ],
      "text/plain": [
       "      hed__Contact__c  mor_Attendance_Score__c  IP_Grade_Average__c  \\\n",
       "2  0034K00000B8gO1QAJ                     78.0                23.61   \n",
       "3  0034K00000BAy3KQAT                     96.0                95.00   \n",
       "\n",
       "   mor_Total_Activity_Time__c  Participations_Level__c  Page_Views_Level__c  \\\n",
       "2                    239165.0                      2.0                  2.0   \n",
       "3                   1238278.0                      2.0                  2.0   \n",
       "\n",
       "  hed__Course_Offering__c Prerequisite_Course_Connection__c  \n",
       "2      a0R4K0000020w2DUAQ                a0P4K0000012KbmUAE  \n",
       "3      a0R4K0000020w2DUAQ                a0P4K0000012KbwUAE  "
      ]
     },
     "execution_count": 19,
     "metadata": {},
     "output_type": "execute_result"
    }
   ],
   "source": [
    "android_data_cleaned = clean_data(android_data)\n",
    "android_data_cleaned.head(2)"
   ]
  },
  {
   "cell_type": "code",
   "execution_count": 20,
   "id": "a743a132",
   "metadata": {},
   "outputs": [
    {
     "data": {
      "text/html": [
       "<div>\n",
       "<style scoped>\n",
       "    .dataframe tbody tr th:only-of-type {\n",
       "        vertical-align: middle;\n",
       "    }\n",
       "\n",
       "    .dataframe tbody tr th {\n",
       "        vertical-align: top;\n",
       "    }\n",
       "\n",
       "    .dataframe thead th {\n",
       "        text-align: right;\n",
       "    }\n",
       "</style>\n",
       "<table border=\"1\" class=\"dataframe\">\n",
       "  <thead>\n",
       "    <tr style=\"text-align: right;\">\n",
       "      <th></th>\n",
       "      <th>hed__Contact__c</th>\n",
       "      <th>mor_Attendance_Score__c</th>\n",
       "      <th>IP_Grade_Average__c</th>\n",
       "      <th>mor_Total_Activity_Time__c</th>\n",
       "      <th>Participations_Level__c</th>\n",
       "      <th>Page_Views_Level__c</th>\n",
       "      <th>hed__Course_Offering__c</th>\n",
       "      <th>Prerequisite_Course_Connection__c</th>\n",
       "    </tr>\n",
       "  </thead>\n",
       "  <tbody>\n",
       "    <tr>\n",
       "      <th>0</th>\n",
       "      <td>0034K00000BAy36QAD</td>\n",
       "      <td>63.0</td>\n",
       "      <td>82.7325</td>\n",
       "      <td>303945.0</td>\n",
       "      <td>2.0</td>\n",
       "      <td>2.0</td>\n",
       "      <td>a0R4K0000020w1ZUAQ</td>\n",
       "      <td>NaN</td>\n",
       "    </tr>\n",
       "    <tr>\n",
       "      <th>4</th>\n",
       "      <td>0034K00000B8gNtQAJ</td>\n",
       "      <td>100.0</td>\n",
       "      <td>0.0000</td>\n",
       "      <td>194355.0</td>\n",
       "      <td>1.0</td>\n",
       "      <td>1.0</td>\n",
       "      <td>a0R4K0000020w1ZUAQ</td>\n",
       "      <td>a0P4K000000fx37UAA</td>\n",
       "    </tr>\n",
       "  </tbody>\n",
       "</table>\n",
       "</div>"
      ],
      "text/plain": [
       "      hed__Contact__c  mor_Attendance_Score__c  IP_Grade_Average__c  \\\n",
       "0  0034K00000BAy36QAD                     63.0              82.7325   \n",
       "4  0034K00000B8gNtQAJ                    100.0               0.0000   \n",
       "\n",
       "   mor_Total_Activity_Time__c  Participations_Level__c  Page_Views_Level__c  \\\n",
       "0                    303945.0                      2.0                  2.0   \n",
       "4                    194355.0                      1.0                  1.0   \n",
       "\n",
       "  hed__Course_Offering__c Prerequisite_Course_Connection__c  \n",
       "0      a0R4K0000020w1ZUAQ                               NaN  \n",
       "4      a0R4K0000020w1ZUAQ                a0P4K000000fx37UAA  "
      ]
     },
     "execution_count": 20,
     "metadata": {},
     "output_type": "execute_result"
    }
   ],
   "source": [
    "django_data_cleaned = clean_data(django_data)\n",
    "django_data_cleaned.head(2)"
   ]
  },
  {
   "cell_type": "code",
   "execution_count": 21,
   "id": "3236a4ee",
   "metadata": {},
   "outputs": [
    {
     "data": {
      "text/html": [
       "<div>\n",
       "<style scoped>\n",
       "    .dataframe tbody tr th:only-of-type {\n",
       "        vertical-align: middle;\n",
       "    }\n",
       "\n",
       "    .dataframe tbody tr th {\n",
       "        vertical-align: top;\n",
       "    }\n",
       "\n",
       "    .dataframe thead th {\n",
       "        text-align: right;\n",
       "    }\n",
       "</style>\n",
       "<table border=\"1\" class=\"dataframe\">\n",
       "  <thead>\n",
       "    <tr style=\"text-align: right;\">\n",
       "      <th></th>\n",
       "      <th>hed__Contact__c</th>\n",
       "      <th>mor_Attendance_Score__c</th>\n",
       "      <th>IP_Grade_Average__c</th>\n",
       "      <th>mor_Total_Activity_Time__c</th>\n",
       "      <th>Participations_Level__c</th>\n",
       "      <th>Page_Views_Level__c</th>\n",
       "      <th>hed__Course_Offering__c</th>\n",
       "      <th>Prerequisite_Course_Connection__c</th>\n",
       "    </tr>\n",
       "  </thead>\n",
       "  <tbody>\n",
       "  </tbody>\n",
       "</table>\n",
       "</div>"
      ],
      "text/plain": [
       "Empty DataFrame\n",
       "Columns: [hed__Contact__c, mor_Attendance_Score__c, IP_Grade_Average__c, mor_Total_Activity_Time__c, Participations_Level__c, Page_Views_Level__c, hed__Course_Offering__c, Prerequisite_Course_Connection__c]\n",
       "Index: []"
      ]
     },
     "execution_count": 21,
     "metadata": {},
     "output_type": "execute_result"
    }
   ],
   "source": [
    "prof_dev_data_cleaned = clean_data(prof_dev_data)\n",
    "prof_dev_data_cleaned.head(2)"
   ]
  },
  {
   "cell_type": "code",
   "execution_count": 22,
   "id": "7289c6b1",
   "metadata": {},
   "outputs": [
    {
     "data": {
      "text/plain": [
       "hed__Contact__c                      0.0\n",
       "mor_Attendance_Score__c              0.0\n",
       "IP_Grade_Average__c                  0.0\n",
       "mor_Total_Activity_Time__c           0.0\n",
       "Participations_Level__c              0.0\n",
       "Page_Views_Level__c                  0.0\n",
       "hed__Course_Offering__c              0.0\n",
       "Prerequisite_Course_Connection__c    0.0\n",
       "dtype: float64"
      ]
     },
     "execution_count": 22,
     "metadata": {},
     "output_type": "execute_result"
    }
   ],
   "source": [
    "prof_dev__missing_values = prof_dev_data_cleaned.isnull().sum()\n",
    "prof_dev__missing_values"
   ]
  }
 ],
 "metadata": {
  "kernelspec": {
   "display_name": "Python 3 (ipykernel)",
   "language": "python",
   "name": "python3"
  },
  "language_info": {
   "codemirror_mode": {
    "name": "ipython",
    "version": 3
   },
   "file_extension": ".py",
   "mimetype": "text/x-python",
   "name": "python",
   "nbconvert_exporter": "python",
   "pygments_lexer": "ipython3",
   "version": "3.9.7"
  }
 },
 "nbformat": 4,
 "nbformat_minor": 5
}
