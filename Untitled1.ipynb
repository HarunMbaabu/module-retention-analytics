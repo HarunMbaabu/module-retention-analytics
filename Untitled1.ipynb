{
 "cells": [
  {
   "cell_type": "code",
   "execution_count": 13,
   "id": "816cd943",
   "metadata": {},
   "outputs": [],
   "source": [
    "import pandas as pd\n",
    "import seaborn as sns\n",
    "import matplotlib.pyplot as plt"
   ]
  },
  {
   "cell_type": "code",
   "execution_count": 14,
   "id": "bde341a4",
   "metadata": {},
   "outputs": [],
   "source": [
    "# Load the cleaned data for each module\n",
    "angular_data = pd.read_csv('Data/Angular.csv')\n",
    "java_data = pd.read_csv('Data/Java.csv')\n",
    "python_data = pd.read_csv('Data/Python_Flask.csv')\n",
    "django_data = pd.read_csv('Data/Django.csv')\n",
    "android_data = pd.read_csv('Data/Android.csv')\n",
    "professional_data = pd.read_csv('Data/Professional Development.csv')\n",
    "intro_data = pd.read_csv('Data/Intro_to_Software_Development.csv')"
   ]
  },
  {
   "cell_type": "code",
   "execution_count": 15,
   "id": "ed23f012",
   "metadata": {},
   "outputs": [],
   "source": [
    "# Convert 'Prerequisite_Course_Connection__c' column to numeric\n",
    "java_data['Prerequisite_Course_Connection__c'] = pd.to_numeric(java_data['Prerequisite_Course_Connection__c'], errors='coerce')\n",
    "android_data['Prerequisite_Course_Connection__c'] = pd.to_numeric(android_data['Prerequisite_Course_Connection__c'], errors='coerce')\n",
    "django_data['Prerequisite_Course_Connection__c'] = pd.to_numeric(django_data['Prerequisite_Course_Connection__c'], errors='coerce')\n",
    "professional_data['Prerequisite_Course_Connection__c'] = pd.to_numeric(professional_data['Prerequisite_Course_Connection__c'], errors='coerce')\n"
   ]
  },
  {
   "cell_type": "code",
   "execution_count": 16,
   "id": "05273b8a",
   "metadata": {},
   "outputs": [],
   "source": [
    "\n",
    "# Calculate correlation coefficients\n",
    "def calculate_correlation(data, retention_rate):\n",
    "    # Select the relevant metrics columns\n",
    "    metrics_columns = ['mor_Attendance_Score__c', 'IP_Grade_Average__c', 'mor_Total_Activity_Time__c', 'Participations_Level__c', 'Page_Views_Level__c']\n",
    "    metrics_data = data[metrics_columns]\n",
    "    \n",
    "    # Calculate the correlation coefficients\n",
    "    correlation = metrics_data.corrwith(retention_rate)\n",
    "    \n",
    "    return correlation"
   ]
  },
  {
   "cell_type": "code",
   "execution_count": 17,
   "id": "d9052172",
   "metadata": {},
   "outputs": [],
   "source": [
    "# Calculate correlation for each module\n",
    "angular_correlation = calculate_correlation(angular_data, java_data['Prerequisite_Course_Connection__c'])\n",
    "java_correlation = calculate_correlation(java_data, android_data['Prerequisite_Course_Connection__c'])\n",
    "python_correlation = calculate_correlation(python_data, django_data['Prerequisite_Course_Connection__c'])\n",
    "android_django_correlation = calculate_correlation(android_data.append(django_data), professional_data['Prerequisite_Course_Connection__c'])\n",
    "\n",
    "# Combine the correlation coefficients into a single DataFrame\n",
    "correlation_data = pd.DataFrame({\n",
    "    'Metric': ['Attendance', 'IP Grade Average', 'Total Activity Time', 'Participation Level', 'Page View Level'],\n",
    "    'Angular': angular_correlation,\n",
    "    'Java': java_correlation,\n",
    "    'Python': python_correlation,\n",
    "    'Android/Django': android_django_correlation\n",
    "})"
   ]
  },
  {
   "cell_type": "code",
   "execution_count": 18,
   "id": "a1986b9b",
   "metadata": {},
   "outputs": [
    {
     "data": {
      "image/png": "[encoded data removed]",
      "text/plain": [
       "<Figure size 576x432 with 1 Axes>"
      ]
     },
     "metadata": {
      "needs_background": "light"
     },
     "output_type": "display_data"
    }
   ],
   "source": [
    "\n",
    "# Calculate the mean correlation across modules\n",
    "correlation_data['Mean Correlation'] = correlation_data[['Angular', 'Java', 'Python', 'Android/Django']].mean(axis=1)\n",
    "\n",
    "# Sort the DataFrame by mean correlation in descending order\n",
    "sorted_correlation_data = correlation_data.sort_values(by='Mean Correlation', ascending=False)\n",
    "\n",
    "# Visualize the mean correlation\n",
    "plt.figure(figsize=(8, 6))\n",
    "sns.barplot(x='Mean Correlation', y='Metric', data=sorted_correlation_data, orient='h')\n",
    "plt.title('Mean Correlation between Metrics and Module-to-Module Retention Rate')\n",
    "plt.xlabel('Mean Correlation Coefficient')\n",
    "plt.ylabel('Metric')\n",
    "plt.show()"
   ]
  },
  {
   "cell_type": "code",
   "execution_count": 19,
   "id": "ef5347cd",
   "metadata": {},
   "outputs": [
    {
     "name": "stdout",
     "output_type": "stream",
     "text": [
      "Top Metrics to Improve Module-to-Module Retention:\n",
      "mor_Attendance_Score__c          Attendance\n",
      "IP_Grade_Average__c        IP Grade Average\n",
      "Name: Metric, dtype: object\n"
     ]
    }
   ],
   "source": [
    "\n",
    "# Select the top two metrics\n",
    "top_metrics = sorted_correlation_data.head(2)['Metric']\n",
    "\n",
    "# Print the top two metrics\n",
    "print(\"Top Metrics to Improve Module-to-Module Retention:\")\n",
    "print(top_metrics)"
   ]
  }
 ],
 "metadata": {
  "kernelspec": {
   "display_name": "Python 3 (ipykernel)",
   "language": "python",
   "name": "python3"
  },
  "language_info": {
   "codemirror_mode": {
    "name": "ipython",
    "version": 3
   },
   "file_extension": ".py",
   "mimetype": "text/x-python",
   "name": "python",
   "nbconvert_exporter": "python",
   "pygments_lexer": "ipython3",
   "version": "3.9.7"
  }
 },
 "nbformat": 4,
 "nbformat_minor": 5
}
